{
  "nbformat": 4,
  "nbformat_minor": 0,
  "metadata": {
    "colab": {
      "name": "택배운송량 예측 (105/227)",
      "provenance": [],
      "collapsed_sections": [],
      "authorship_tag": "ABX9TyPWCcsgiaOfYZ3oolMpFvii",
      "include_colab_link": true
    },
    "kernelspec": {
      "name": "python3",
      "display_name": "Python 3"
    },
    "language_info": {
      "name": "python"
    }
  },
  "cells": [
    {
      "cell_type": "markdown",
      "metadata": {
        "id": "view-in-github",
        "colab_type": "text"
      },
      "source": [
        "<a href=\"https://colab.research.google.com/github/menguri/Delivery_Traffic_Volume_Expecting/blob/main/%ED%83%9D%EB%B0%B0%EC%9A%B4%EC%86%A1%EB%9F%89_%EC%98%88%EC%B8%A1_(105_227).ipynb\" target=\"_parent\"><img src=\"https://colab.research.google.com/assets/colab-badge.svg\" alt=\"Open In Colab\"/></a>"
      ]
    },
    {
      "cell_type": "markdown",
      "metadata": {
        "id": "4xbBUC8yPqEI"
      },
      "source": [
        "# **택배 운송량 예측**"
      ]
    },
    {
      "cell_type": "markdown",
      "metadata": {
        "id": "waHGLtJzQGsM"
      },
      "source": [
        "1. **데이터/라이브러리 불러오기**\n",
        "2. **EDA**\n",
        "3. **모델 생성**\n",
        "4. **학습**\n",
        "5. **결과 도출 및 시각화**\n",
        "6. **결과파일 생성**"
      ]
    },
    {
      "cell_type": "markdown",
      "source": [
        "# **1. 데이터/ 라이브러리 불러오기**"
      ],
      "metadata": {
        "id": "z_0Y6BhAdla7"
      }
    },
    {
      "cell_type": "code",
      "metadata": {
        "id": "LLTFB6oY_9M2",
        "colab": {
          "base_uri": "https://localhost:8080/"
        },
        "outputId": "d90a6eeb-2eda-457e-9375-8f1c0d6c4ada"
      },
      "source": [
        "# 라이브러리 불러오기\n",
        "\n",
        "import pandas as pd\n",
        "import numpy as np\n",
        "import matplotlib.pyplot as plt\n",
        "import seaborn as sns\n",
        "%matplotlib inline\n",
        "from IPython.display import Image\n",
        "\n",
        "import warnings\n",
        "warnings.filterwarnings(\"ignore\", category=FutureWarning)\n",
        "warnings.filterwarnings(\"ignore\", category=DeprecationWarning)\n",
        "\n",
        "from google.colab import drive\n",
        "drive.mount('/content/drive') \n",
        "\n",
        "# 지수 표현 없애기\n",
        "pd.options.display.float_format = '{:.5f}'.format"
      ],
      "execution_count": null,
      "outputs": [
        {
          "output_type": "stream",
          "name": "stdout",
          "text": [
            "Mounted at /content/drive\n"
          ]
        }
      ]
    },
    {
      "cell_type": "code",
      "source": [
        "# 폰트 지정\n",
        "!sudo apt-get install -y fonts-nanum\n",
        "!sudo fc-cache -fv\n",
        "!rm ~/.cache/matplotlib -rf\n",
        "\n",
        "plt.rc('font', family='NanumBarunGothic') "
      ],
      "metadata": {
        "colab": {
          "base_uri": "https://localhost:8080/"
        },
        "id": "2bC85H6aTKRW",
        "outputId": "03c82a72-8faa-4b08-be7e-fdd47b0ea19a"
      },
      "execution_count": null,
      "outputs": [
        {
          "output_type": "stream",
          "name": "stdout",
          "text": [
            "Reading package lists... Done\n",
            "Building dependency tree       \n",
            "Reading state information... Done\n",
            "fonts-nanum is already the newest version (20170925-1).\n",
            "0 upgraded, 0 newly installed, 0 to remove and 37 not upgraded.\n",
            "/usr/share/fonts: caching, new cache contents: 0 fonts, 1 dirs\n",
            "/usr/share/fonts/truetype: caching, new cache contents: 0 fonts, 3 dirs\n",
            "/usr/share/fonts/truetype/humor-sans: caching, new cache contents: 1 fonts, 0 dirs\n",
            "/usr/share/fonts/truetype/liberation: caching, new cache contents: 16 fonts, 0 dirs\n",
            "/usr/share/fonts/truetype/nanum: caching, new cache contents: 10 fonts, 0 dirs\n",
            "/usr/local/share/fonts: caching, new cache contents: 0 fonts, 0 dirs\n",
            "/root/.local/share/fonts: skipping, no such directory\n",
            "/root/.fonts: skipping, no such directory\n",
            "/var/cache/fontconfig: cleaning cache directory\n",
            "/root/.cache/fontconfig: not cleaning non-existent cache directory\n",
            "/root/.fontconfig: not cleaning non-existent cache directory\n",
            "fc-cache: succeeded\n"
          ]
        }
      ]
    },
    {
      "cell_type": "code",
      "source": [
        "# 데이터 불러오기\n",
        "\n",
        "test = pd.read_csv('/content/drive/MyDrive/Data Science/Colab Notebooks/택배운송량 예측/test.csv')\n",
        "train = pd.read_csv('/content/drive/MyDrive/Data Science/Colab Notebooks/택배운송량 예측/train.csv')\n",
        "submission = pd.read_csv('/content/drive/MyDrive/Data Science/Colab Notebooks/택배운송량 예측/sample_submission.csv')\n",
        "building_file = pd.read_excel('/content/drive/MyDrive/Data Science/Colab Notebooks/택배운송량 예측/법정동.xlsx')                # 추가파일 1 (법정동)\n",
        "building_file.to_csv('/content/drive/MyDrive/Data Science/Colab Notebooks/택배운송량 예측/법정동.csv')"
      ],
      "metadata": {
        "id": "C3wGkpoSegh0"
      },
      "execution_count": null,
      "outputs": []
    },
    {
      "cell_type": "code",
      "source": [
        "# 데이터 확인\n",
        "\n",
        "train.head()"
      ],
      "metadata": {
        "colab": {
          "base_uri": "https://localhost:8080/",
          "height": 206
        },
        "id": "8kyC8ikHfLh4",
        "outputId": "468bbd05-ad3a-4375-a9a5-cfab4578dc4c"
      },
      "execution_count": null,
      "outputs": [
        {
          "output_type": "execute_result",
          "data": {
            "text/html": [
              "\n",
              "  <div id=\"df-77cbc1c3-c535-4ebc-858d-46040919f5b1\">\n",
              "    <div class=\"colab-df-container\">\n",
              "      <div>\n",
              "<style scoped>\n",
              "    .dataframe tbody tr th:only-of-type {\n",
              "        vertical-align: middle;\n",
              "    }\n",
              "\n",
              "    .dataframe tbody tr th {\n",
              "        vertical-align: top;\n",
              "    }\n",
              "\n",
              "    .dataframe thead th {\n",
              "        text-align: right;\n",
              "    }\n",
              "</style>\n",
              "<table border=\"1\" class=\"dataframe\">\n",
              "  <thead>\n",
              "    <tr style=\"text-align: right;\">\n",
              "      <th></th>\n",
              "      <th>index</th>\n",
              "      <th>SEND_SPG_INNB</th>\n",
              "      <th>REC_SPG_INNB</th>\n",
              "      <th>DL_GD_LCLS_NM</th>\n",
              "      <th>DL_GD_MCLS_NM</th>\n",
              "      <th>INVC_CONT</th>\n",
              "    </tr>\n",
              "  </thead>\n",
              "  <tbody>\n",
              "    <tr>\n",
              "      <th>0</th>\n",
              "      <td>0</td>\n",
              "      <td>1129000000000000.00000</td>\n",
              "      <td>5011000000000000.00000</td>\n",
              "      <td>패션의류</td>\n",
              "      <td>상의</td>\n",
              "      <td>3</td>\n",
              "    </tr>\n",
              "    <tr>\n",
              "      <th>1</th>\n",
              "      <td>1</td>\n",
              "      <td>1135000000000000.00000</td>\n",
              "      <td>5011000000000000.00000</td>\n",
              "      <td>생활/건강</td>\n",
              "      <td>반려동물</td>\n",
              "      <td>3</td>\n",
              "    </tr>\n",
              "    <tr>\n",
              "      <th>2</th>\n",
              "      <td>2</td>\n",
              "      <td>1135000000000000.00000</td>\n",
              "      <td>5011000000000000.00000</td>\n",
              "      <td>패션의류</td>\n",
              "      <td>기타패션의류</td>\n",
              "      <td>9</td>\n",
              "    </tr>\n",
              "    <tr>\n",
              "      <th>3</th>\n",
              "      <td>3</td>\n",
              "      <td>1154500000000000.00000</td>\n",
              "      <td>5011000000000000.00000</td>\n",
              "      <td>식품</td>\n",
              "      <td>농산물</td>\n",
              "      <td>10</td>\n",
              "    </tr>\n",
              "    <tr>\n",
              "      <th>4</th>\n",
              "      <td>4</td>\n",
              "      <td>1165000000000000.00000</td>\n",
              "      <td>5011000000000000.00000</td>\n",
              "      <td>식품</td>\n",
              "      <td>가공식품</td>\n",
              "      <td>3</td>\n",
              "    </tr>\n",
              "  </tbody>\n",
              "</table>\n",
              "</div>\n",
              "      <button class=\"colab-df-convert\" onclick=\"convertToInteractive('df-77cbc1c3-c535-4ebc-858d-46040919f5b1')\"\n",
              "              title=\"Convert this dataframe to an interactive table.\"\n",
              "              style=\"display:none;\">\n",
              "        \n",
              "  <svg xmlns=\"http://www.w3.org/2000/svg\" height=\"24px\"viewBox=\"0 0 24 24\"\n",
              "       width=\"24px\">\n",
              "    <path d=\"M0 0h24v24H0V0z\" fill=\"none\"/>\n",
              "    <path d=\"M18.56 5.44l.94 2.06.94-2.06 2.06-.94-2.06-.94-.94-2.06-.94 2.06-2.06.94zm-11 1L8.5 8.5l.94-2.06 2.06-.94-2.06-.94L8.5 2.5l-.94 2.06-2.06.94zm10 10l.94 2.06.94-2.06 2.06-.94-2.06-.94-.94-2.06-.94 2.06-2.06.94z\"/><path d=\"M17.41 7.96l-1.37-1.37c-.4-.4-.92-.59-1.43-.59-.52 0-1.04.2-1.43.59L10.3 9.45l-7.72 7.72c-.78.78-.78 2.05 0 2.83L4 21.41c.39.39.9.59 1.41.59.51 0 1.02-.2 1.41-.59l7.78-7.78 2.81-2.81c.8-.78.8-2.07 0-2.86zM5.41 20L4 18.59l7.72-7.72 1.47 1.35L5.41 20z\"/>\n",
              "  </svg>\n",
              "      </button>\n",
              "      \n",
              "  <style>\n",
              "    .colab-df-container {\n",
              "      display:flex;\n",
              "      flex-wrap:wrap;\n",
              "      gap: 12px;\n",
              "    }\n",
              "\n",
              "    .colab-df-convert {\n",
              "      background-color: #E8F0FE;\n",
              "      border: none;\n",
              "      border-radius: 50%;\n",
              "      cursor: pointer;\n",
              "      display: none;\n",
              "      fill: #1967D2;\n",
              "      height: 32px;\n",
              "      padding: 0 0 0 0;\n",
              "      width: 32px;\n",
              "    }\n",
              "\n",
              "    .colab-df-convert:hover {\n",
              "      background-color: #E2EBFA;\n",
              "      box-shadow: 0px 1px 2px rgba(60, 64, 67, 0.3), 0px 1px 3px 1px rgba(60, 64, 67, 0.15);\n",
              "      fill: #174EA6;\n",
              "    }\n",
              "\n",
              "    [theme=dark] .colab-df-convert {\n",
              "      background-color: #3B4455;\n",
              "      fill: #D2E3FC;\n",
              "    }\n",
              "\n",
              "    [theme=dark] .colab-df-convert:hover {\n",
              "      background-color: #434B5C;\n",
              "      box-shadow: 0px 1px 3px 1px rgba(0, 0, 0, 0.15);\n",
              "      filter: drop-shadow(0px 1px 2px rgba(0, 0, 0, 0.3));\n",
              "      fill: #FFFFFF;\n",
              "    }\n",
              "  </style>\n",
              "\n",
              "      <script>\n",
              "        const buttonEl =\n",
              "          document.querySelector('#df-77cbc1c3-c535-4ebc-858d-46040919f5b1 button.colab-df-convert');\n",
              "        buttonEl.style.display =\n",
              "          google.colab.kernel.accessAllowed ? 'block' : 'none';\n",
              "\n",
              "        async function convertToInteractive(key) {\n",
              "          const element = document.querySelector('#df-77cbc1c3-c535-4ebc-858d-46040919f5b1');\n",
              "          const dataTable =\n",
              "            await google.colab.kernel.invokeFunction('convertToInteractive',\n",
              "                                                     [key], {});\n",
              "          if (!dataTable) return;\n",
              "\n",
              "          const docLinkHtml = 'Like what you see? Visit the ' +\n",
              "            '<a target=\"_blank\" href=https://colab.research.google.com/notebooks/data_table.ipynb>data table notebook</a>'\n",
              "            + ' to learn more about interactive tables.';\n",
              "          element.innerHTML = '';\n",
              "          dataTable['output_type'] = 'display_data';\n",
              "          await google.colab.output.renderOutput(dataTable, element);\n",
              "          const docLink = document.createElement('div');\n",
              "          docLink.innerHTML = docLinkHtml;\n",
              "          element.appendChild(docLink);\n",
              "        }\n",
              "      </script>\n",
              "    </div>\n",
              "  </div>\n",
              "  "
            ],
            "text/plain": [
              "   index          SEND_SPG_INNB  ...  DL_GD_MCLS_NM INVC_CONT\n",
              "0      0 1129000000000000.00000  ...             상의         3\n",
              "1      1 1135000000000000.00000  ...           반려동물         3\n",
              "2      2 1135000000000000.00000  ...         기타패션의류         9\n",
              "3      3 1154500000000000.00000  ...            농산물        10\n",
              "4      4 1165000000000000.00000  ...           가공식품         3\n",
              "\n",
              "[5 rows x 6 columns]"
            ]
          },
          "metadata": {},
          "execution_count": 6
        }
      ]
    },
    {
      "cell_type": "code",
      "source": [
        "train.info()"
      ],
      "metadata": {
        "colab": {
          "base_uri": "https://localhost:8080/"
        },
        "id": "XRPrF5BEe-p9",
        "outputId": "96122979-2d92-41a8-d261-b63eeb85d10e"
      },
      "execution_count": null,
      "outputs": [
        {
          "output_type": "stream",
          "name": "stdout",
          "text": [
            "<class 'pandas.core.frame.DataFrame'>\n",
            "RangeIndex: 32000 entries, 0 to 31999\n",
            "Data columns (total 6 columns):\n",
            " #   Column         Non-Null Count  Dtype  \n",
            "---  ------         --------------  -----  \n",
            " 0   index          32000 non-null  int64  \n",
            " 1   SEND_SPG_INNB  32000 non-null  float64\n",
            " 2   REC_SPG_INNB   32000 non-null  float64\n",
            " 3   DL_GD_LCLS_NM  32000 non-null  object \n",
            " 4   DL_GD_MCLS_NM  32000 non-null  object \n",
            " 5   INVC_CONT      32000 non-null  int64  \n",
            "dtypes: float64(2), int64(2), object(2)\n",
            "memory usage: 1.5+ MB\n"
          ]
        }
      ]
    },
    {
      "cell_type": "code",
      "source": [
        "# 데이터 확인 2\n",
        "\n",
        "test.head()"
      ],
      "metadata": {
        "colab": {
          "base_uri": "https://localhost:8080/",
          "height": 206
        },
        "id": "mTUv2ohafPuw",
        "outputId": "13d70ccc-f82e-4a46-d0e5-0700330ff892"
      },
      "execution_count": null,
      "outputs": [
        {
          "output_type": "execute_result",
          "data": {
            "text/html": [
              "\n",
              "  <div id=\"df-1bf58f54-d8a7-48d4-8903-bc003a705998\">\n",
              "    <div class=\"colab-df-container\">\n",
              "      <div>\n",
              "<style scoped>\n",
              "    .dataframe tbody tr th:only-of-type {\n",
              "        vertical-align: middle;\n",
              "    }\n",
              "\n",
              "    .dataframe tbody tr th {\n",
              "        vertical-align: top;\n",
              "    }\n",
              "\n",
              "    .dataframe thead th {\n",
              "        text-align: right;\n",
              "    }\n",
              "</style>\n",
              "<table border=\"1\" class=\"dataframe\">\n",
              "  <thead>\n",
              "    <tr style=\"text-align: right;\">\n",
              "      <th></th>\n",
              "      <th>index</th>\n",
              "      <th>SEND_SPG_INNB</th>\n",
              "      <th>REC_SPG_INNB</th>\n",
              "      <th>DL_GD_LCLS_NM</th>\n",
              "      <th>DL_GD_MCLS_NM</th>\n",
              "    </tr>\n",
              "  </thead>\n",
              "  <tbody>\n",
              "    <tr>\n",
              "      <th>0</th>\n",
              "      <td>32000</td>\n",
              "      <td>5013000000000000.00000</td>\n",
              "      <td>1165000000000000.00000</td>\n",
              "      <td>식품</td>\n",
              "      <td>농산물</td>\n",
              "    </tr>\n",
              "    <tr>\n",
              "      <th>1</th>\n",
              "      <td>32001</td>\n",
              "      <td>5013000000000000.00000</td>\n",
              "      <td>1154500000000000.00000</td>\n",
              "      <td>식품</td>\n",
              "      <td>농산물</td>\n",
              "    </tr>\n",
              "    <tr>\n",
              "      <th>2</th>\n",
              "      <td>32002</td>\n",
              "      <td>5013000000000000.00000</td>\n",
              "      <td>4139000000000000.00000</td>\n",
              "      <td>식품</td>\n",
              "      <td>농산물</td>\n",
              "    </tr>\n",
              "    <tr>\n",
              "      <th>3</th>\n",
              "      <td>32003</td>\n",
              "      <td>5013000000000000.00000</td>\n",
              "      <td>4221000000000000.00000</td>\n",
              "      <td>식품</td>\n",
              "      <td>농산물</td>\n",
              "    </tr>\n",
              "    <tr>\n",
              "      <th>4</th>\n",
              "      <td>32004</td>\n",
              "      <td>5013000000000000.00000</td>\n",
              "      <td>2726000000000000.00000</td>\n",
              "      <td>식품</td>\n",
              "      <td>농산물</td>\n",
              "    </tr>\n",
              "  </tbody>\n",
              "</table>\n",
              "</div>\n",
              "      <button class=\"colab-df-convert\" onclick=\"convertToInteractive('df-1bf58f54-d8a7-48d4-8903-bc003a705998')\"\n",
              "              title=\"Convert this dataframe to an interactive table.\"\n",
              "              style=\"display:none;\">\n",
              "        \n",
              "  <svg xmlns=\"http://www.w3.org/2000/svg\" height=\"24px\"viewBox=\"0 0 24 24\"\n",
              "       width=\"24px\">\n",
              "    <path d=\"M0 0h24v24H0V0z\" fill=\"none\"/>\n",
              "    <path d=\"M18.56 5.44l.94 2.06.94-2.06 2.06-.94-2.06-.94-.94-2.06-.94 2.06-2.06.94zm-11 1L8.5 8.5l.94-2.06 2.06-.94-2.06-.94L8.5 2.5l-.94 2.06-2.06.94zm10 10l.94 2.06.94-2.06 2.06-.94-2.06-.94-.94-2.06-.94 2.06-2.06.94z\"/><path d=\"M17.41 7.96l-1.37-1.37c-.4-.4-.92-.59-1.43-.59-.52 0-1.04.2-1.43.59L10.3 9.45l-7.72 7.72c-.78.78-.78 2.05 0 2.83L4 21.41c.39.39.9.59 1.41.59.51 0 1.02-.2 1.41-.59l7.78-7.78 2.81-2.81c.8-.78.8-2.07 0-2.86zM5.41 20L4 18.59l7.72-7.72 1.47 1.35L5.41 20z\"/>\n",
              "  </svg>\n",
              "      </button>\n",
              "      \n",
              "  <style>\n",
              "    .colab-df-container {\n",
              "      display:flex;\n",
              "      flex-wrap:wrap;\n",
              "      gap: 12px;\n",
              "    }\n",
              "\n",
              "    .colab-df-convert {\n",
              "      background-color: #E8F0FE;\n",
              "      border: none;\n",
              "      border-radius: 50%;\n",
              "      cursor: pointer;\n",
              "      display: none;\n",
              "      fill: #1967D2;\n",
              "      height: 32px;\n",
              "      padding: 0 0 0 0;\n",
              "      width: 32px;\n",
              "    }\n",
              "\n",
              "    .colab-df-convert:hover {\n",
              "      background-color: #E2EBFA;\n",
              "      box-shadow: 0px 1px 2px rgba(60, 64, 67, 0.3), 0px 1px 3px 1px rgba(60, 64, 67, 0.15);\n",
              "      fill: #174EA6;\n",
              "    }\n",
              "\n",
              "    [theme=dark] .colab-df-convert {\n",
              "      background-color: #3B4455;\n",
              "      fill: #D2E3FC;\n",
              "    }\n",
              "\n",
              "    [theme=dark] .colab-df-convert:hover {\n",
              "      background-color: #434B5C;\n",
              "      box-shadow: 0px 1px 3px 1px rgba(0, 0, 0, 0.15);\n",
              "      filter: drop-shadow(0px 1px 2px rgba(0, 0, 0, 0.3));\n",
              "      fill: #FFFFFF;\n",
              "    }\n",
              "  </style>\n",
              "\n",
              "      <script>\n",
              "        const buttonEl =\n",
              "          document.querySelector('#df-1bf58f54-d8a7-48d4-8903-bc003a705998 button.colab-df-convert');\n",
              "        buttonEl.style.display =\n",
              "          google.colab.kernel.accessAllowed ? 'block' : 'none';\n",
              "\n",
              "        async function convertToInteractive(key) {\n",
              "          const element = document.querySelector('#df-1bf58f54-d8a7-48d4-8903-bc003a705998');\n",
              "          const dataTable =\n",
              "            await google.colab.kernel.invokeFunction('convertToInteractive',\n",
              "                                                     [key], {});\n",
              "          if (!dataTable) return;\n",
              "\n",
              "          const docLinkHtml = 'Like what you see? Visit the ' +\n",
              "            '<a target=\"_blank\" href=https://colab.research.google.com/notebooks/data_table.ipynb>data table notebook</a>'\n",
              "            + ' to learn more about interactive tables.';\n",
              "          element.innerHTML = '';\n",
              "          dataTable['output_type'] = 'display_data';\n",
              "          await google.colab.output.renderOutput(dataTable, element);\n",
              "          const docLink = document.createElement('div');\n",
              "          docLink.innerHTML = docLinkHtml;\n",
              "          element.appendChild(docLink);\n",
              "        }\n",
              "      </script>\n",
              "    </div>\n",
              "  </div>\n",
              "  "
            ],
            "text/plain": [
              "   index          SEND_SPG_INNB  ...  DL_GD_LCLS_NM DL_GD_MCLS_NM\n",
              "0  32000 5013000000000000.00000  ...             식품           농산물\n",
              "1  32001 5013000000000000.00000  ...             식품           농산물\n",
              "2  32002 5013000000000000.00000  ...             식품           농산물\n",
              "3  32003 5013000000000000.00000  ...             식품           농산물\n",
              "4  32004 5013000000000000.00000  ...             식품           농산물\n",
              "\n",
              "[5 rows x 5 columns]"
            ]
          },
          "metadata": {},
          "execution_count": 8
        }
      ]
    },
    {
      "cell_type": "code",
      "source": [
        "# 추가 데이터 확인\n",
        "\n",
        "building_file.head()"
      ],
      "metadata": {
        "colab": {
          "base_uri": "https://localhost:8080/",
          "height": 206
        },
        "id": "BOaEoACyWA0M",
        "outputId": "8f301889-9238-40bd-fa7e-043b4a694ac7"
      },
      "execution_count": null,
      "outputs": [
        {
          "output_type": "execute_result",
          "data": {
            "text/html": [
              "\n",
              "  <div id=\"df-53cf0587-dd42-45fe-84f9-93588a35a538\">\n",
              "    <div class=\"colab-df-container\">\n",
              "      <div>\n",
              "<style scoped>\n",
              "    .dataframe tbody tr th:only-of-type {\n",
              "        vertical-align: middle;\n",
              "    }\n",
              "\n",
              "    .dataframe tbody tr th {\n",
              "        vertical-align: top;\n",
              "    }\n",
              "\n",
              "    .dataframe thead th {\n",
              "        text-align: right;\n",
              "    }\n",
              "</style>\n",
              "<table border=\"1\" class=\"dataframe\">\n",
              "  <thead>\n",
              "    <tr style=\"text-align: right;\">\n",
              "      <th></th>\n",
              "      <th>법정동코드</th>\n",
              "      <th>시도명</th>\n",
              "      <th>시군구명</th>\n",
              "      <th>읍면동명</th>\n",
              "      <th>동리명</th>\n",
              "      <th>생성일자</th>\n",
              "      <th>말소일자</th>\n",
              "    </tr>\n",
              "  </thead>\n",
              "  <tbody>\n",
              "    <tr>\n",
              "      <th>0</th>\n",
              "      <td>1100000000</td>\n",
              "      <td>서울특별시</td>\n",
              "      <td>NaN</td>\n",
              "      <td>NaN</td>\n",
              "      <td>NaN</td>\n",
              "      <td>19880423</td>\n",
              "      <td>nan</td>\n",
              "    </tr>\n",
              "    <tr>\n",
              "      <th>1</th>\n",
              "      <td>1111000000</td>\n",
              "      <td>서울특별시</td>\n",
              "      <td>종로구</td>\n",
              "      <td>NaN</td>\n",
              "      <td>NaN</td>\n",
              "      <td>19880423</td>\n",
              "      <td>nan</td>\n",
              "    </tr>\n",
              "    <tr>\n",
              "      <th>2</th>\n",
              "      <td>1111010100</td>\n",
              "      <td>서울특별시</td>\n",
              "      <td>종로구</td>\n",
              "      <td>청운동</td>\n",
              "      <td>NaN</td>\n",
              "      <td>19880423</td>\n",
              "      <td>nan</td>\n",
              "    </tr>\n",
              "    <tr>\n",
              "      <th>3</th>\n",
              "      <td>1111010200</td>\n",
              "      <td>서울특별시</td>\n",
              "      <td>종로구</td>\n",
              "      <td>신교동</td>\n",
              "      <td>NaN</td>\n",
              "      <td>19880423</td>\n",
              "      <td>nan</td>\n",
              "    </tr>\n",
              "    <tr>\n",
              "      <th>4</th>\n",
              "      <td>1111010300</td>\n",
              "      <td>서울특별시</td>\n",
              "      <td>종로구</td>\n",
              "      <td>궁정동</td>\n",
              "      <td>NaN</td>\n",
              "      <td>19880423</td>\n",
              "      <td>nan</td>\n",
              "    </tr>\n",
              "  </tbody>\n",
              "</table>\n",
              "</div>\n",
              "      <button class=\"colab-df-convert\" onclick=\"convertToInteractive('df-53cf0587-dd42-45fe-84f9-93588a35a538')\"\n",
              "              title=\"Convert this dataframe to an interactive table.\"\n",
              "              style=\"display:none;\">\n",
              "        \n",
              "  <svg xmlns=\"http://www.w3.org/2000/svg\" height=\"24px\"viewBox=\"0 0 24 24\"\n",
              "       width=\"24px\">\n",
              "    <path d=\"M0 0h24v24H0V0z\" fill=\"none\"/>\n",
              "    <path d=\"M18.56 5.44l.94 2.06.94-2.06 2.06-.94-2.06-.94-.94-2.06-.94 2.06-2.06.94zm-11 1L8.5 8.5l.94-2.06 2.06-.94-2.06-.94L8.5 2.5l-.94 2.06-2.06.94zm10 10l.94 2.06.94-2.06 2.06-.94-2.06-.94-.94-2.06-.94 2.06-2.06.94z\"/><path d=\"M17.41 7.96l-1.37-1.37c-.4-.4-.92-.59-1.43-.59-.52 0-1.04.2-1.43.59L10.3 9.45l-7.72 7.72c-.78.78-.78 2.05 0 2.83L4 21.41c.39.39.9.59 1.41.59.51 0 1.02-.2 1.41-.59l7.78-7.78 2.81-2.81c.8-.78.8-2.07 0-2.86zM5.41 20L4 18.59l7.72-7.72 1.47 1.35L5.41 20z\"/>\n",
              "  </svg>\n",
              "      </button>\n",
              "      \n",
              "  <style>\n",
              "    .colab-df-container {\n",
              "      display:flex;\n",
              "      flex-wrap:wrap;\n",
              "      gap: 12px;\n",
              "    }\n",
              "\n",
              "    .colab-df-convert {\n",
              "      background-color: #E8F0FE;\n",
              "      border: none;\n",
              "      border-radius: 50%;\n",
              "      cursor: pointer;\n",
              "      display: none;\n",
              "      fill: #1967D2;\n",
              "      height: 32px;\n",
              "      padding: 0 0 0 0;\n",
              "      width: 32px;\n",
              "    }\n",
              "\n",
              "    .colab-df-convert:hover {\n",
              "      background-color: #E2EBFA;\n",
              "      box-shadow: 0px 1px 2px rgba(60, 64, 67, 0.3), 0px 1px 3px 1px rgba(60, 64, 67, 0.15);\n",
              "      fill: #174EA6;\n",
              "    }\n",
              "\n",
              "    [theme=dark] .colab-df-convert {\n",
              "      background-color: #3B4455;\n",
              "      fill: #D2E3FC;\n",
              "    }\n",
              "\n",
              "    [theme=dark] .colab-df-convert:hover {\n",
              "      background-color: #434B5C;\n",
              "      box-shadow: 0px 1px 3px 1px rgba(0, 0, 0, 0.15);\n",
              "      filter: drop-shadow(0px 1px 2px rgba(0, 0, 0, 0.3));\n",
              "      fill: #FFFFFF;\n",
              "    }\n",
              "  </style>\n",
              "\n",
              "      <script>\n",
              "        const buttonEl =\n",
              "          document.querySelector('#df-53cf0587-dd42-45fe-84f9-93588a35a538 button.colab-df-convert');\n",
              "        buttonEl.style.display =\n",
              "          google.colab.kernel.accessAllowed ? 'block' : 'none';\n",
              "\n",
              "        async function convertToInteractive(key) {\n",
              "          const element = document.querySelector('#df-53cf0587-dd42-45fe-84f9-93588a35a538');\n",
              "          const dataTable =\n",
              "            await google.colab.kernel.invokeFunction('convertToInteractive',\n",
              "                                                     [key], {});\n",
              "          if (!dataTable) return;\n",
              "\n",
              "          const docLinkHtml = 'Like what you see? Visit the ' +\n",
              "            '<a target=\"_blank\" href=https://colab.research.google.com/notebooks/data_table.ipynb>data table notebook</a>'\n",
              "            + ' to learn more about interactive tables.';\n",
              "          element.innerHTML = '';\n",
              "          dataTable['output_type'] = 'display_data';\n",
              "          await google.colab.output.renderOutput(dataTable, element);\n",
              "          const docLink = document.createElement('div');\n",
              "          docLink.innerHTML = docLinkHtml;\n",
              "          element.appendChild(docLink);\n",
              "        }\n",
              "      </script>\n",
              "    </div>\n",
              "  </div>\n",
              "  "
            ],
            "text/plain": [
              "        법정동코드    시도명 시군구명 읍면동명  동리명      생성일자  말소일자\n",
              "0  1100000000  서울특별시  NaN  NaN  NaN  19880423   nan\n",
              "1  1111000000  서울특별시  종로구  NaN  NaN  19880423   nan\n",
              "2  1111010100  서울특별시  종로구  청운동  NaN  19880423   nan\n",
              "3  1111010200  서울특별시  종로구  신교동  NaN  19880423   nan\n",
              "4  1111010300  서울특별시  종로구  궁정동  NaN  19880423   nan"
            ]
          },
          "metadata": {},
          "execution_count": 9
        }
      ]
    },
    {
      "cell_type": "code",
      "source": [
        "# 제출파일 확인\n",
        "\n",
        "submission.head()"
      ],
      "metadata": {
        "id": "zwxnqlSA-oO5",
        "colab": {
          "base_uri": "https://localhost:8080/",
          "height": 206
        },
        "outputId": "d5122f42-1611-4c62-842a-d371f0c5bb3d"
      },
      "execution_count": null,
      "outputs": [
        {
          "output_type": "execute_result",
          "data": {
            "text/html": [
              "\n",
              "  <div id=\"df-1ac60091-aea3-4581-8976-0a690eb2e4ce\">\n",
              "    <div class=\"colab-df-container\">\n",
              "      <div>\n",
              "<style scoped>\n",
              "    .dataframe tbody tr th:only-of-type {\n",
              "        vertical-align: middle;\n",
              "    }\n",
              "\n",
              "    .dataframe tbody tr th {\n",
              "        vertical-align: top;\n",
              "    }\n",
              "\n",
              "    .dataframe thead th {\n",
              "        text-align: right;\n",
              "    }\n",
              "</style>\n",
              "<table border=\"1\" class=\"dataframe\">\n",
              "  <thead>\n",
              "    <tr style=\"text-align: right;\">\n",
              "      <th></th>\n",
              "      <th>index</th>\n",
              "      <th>INVC_CONT</th>\n",
              "    </tr>\n",
              "  </thead>\n",
              "  <tbody>\n",
              "    <tr>\n",
              "      <th>0</th>\n",
              "      <td>32000</td>\n",
              "      <td>0</td>\n",
              "    </tr>\n",
              "    <tr>\n",
              "      <th>1</th>\n",
              "      <td>32001</td>\n",
              "      <td>0</td>\n",
              "    </tr>\n",
              "    <tr>\n",
              "      <th>2</th>\n",
              "      <td>32002</td>\n",
              "      <td>0</td>\n",
              "    </tr>\n",
              "    <tr>\n",
              "      <th>3</th>\n",
              "      <td>32003</td>\n",
              "      <td>0</td>\n",
              "    </tr>\n",
              "    <tr>\n",
              "      <th>4</th>\n",
              "      <td>32004</td>\n",
              "      <td>0</td>\n",
              "    </tr>\n",
              "  </tbody>\n",
              "</table>\n",
              "</div>\n",
              "      <button class=\"colab-df-convert\" onclick=\"convertToInteractive('df-1ac60091-aea3-4581-8976-0a690eb2e4ce')\"\n",
              "              title=\"Convert this dataframe to an interactive table.\"\n",
              "              style=\"display:none;\">\n",
              "        \n",
              "  <svg xmlns=\"http://www.w3.org/2000/svg\" height=\"24px\"viewBox=\"0 0 24 24\"\n",
              "       width=\"24px\">\n",
              "    <path d=\"M0 0h24v24H0V0z\" fill=\"none\"/>\n",
              "    <path d=\"M18.56 5.44l.94 2.06.94-2.06 2.06-.94-2.06-.94-.94-2.06-.94 2.06-2.06.94zm-11 1L8.5 8.5l.94-2.06 2.06-.94-2.06-.94L8.5 2.5l-.94 2.06-2.06.94zm10 10l.94 2.06.94-2.06 2.06-.94-2.06-.94-.94-2.06-.94 2.06-2.06.94z\"/><path d=\"M17.41 7.96l-1.37-1.37c-.4-.4-.92-.59-1.43-.59-.52 0-1.04.2-1.43.59L10.3 9.45l-7.72 7.72c-.78.78-.78 2.05 0 2.83L4 21.41c.39.39.9.59 1.41.59.51 0 1.02-.2 1.41-.59l7.78-7.78 2.81-2.81c.8-.78.8-2.07 0-2.86zM5.41 20L4 18.59l7.72-7.72 1.47 1.35L5.41 20z\"/>\n",
              "  </svg>\n",
              "      </button>\n",
              "      \n",
              "  <style>\n",
              "    .colab-df-container {\n",
              "      display:flex;\n",
              "      flex-wrap:wrap;\n",
              "      gap: 12px;\n",
              "    }\n",
              "\n",
              "    .colab-df-convert {\n",
              "      background-color: #E8F0FE;\n",
              "      border: none;\n",
              "      border-radius: 50%;\n",
              "      cursor: pointer;\n",
              "      display: none;\n",
              "      fill: #1967D2;\n",
              "      height: 32px;\n",
              "      padding: 0 0 0 0;\n",
              "      width: 32px;\n",
              "    }\n",
              "\n",
              "    .colab-df-convert:hover {\n",
              "      background-color: #E2EBFA;\n",
              "      box-shadow: 0px 1px 2px rgba(60, 64, 67, 0.3), 0px 1px 3px 1px rgba(60, 64, 67, 0.15);\n",
              "      fill: #174EA6;\n",
              "    }\n",
              "\n",
              "    [theme=dark] .colab-df-convert {\n",
              "      background-color: #3B4455;\n",
              "      fill: #D2E3FC;\n",
              "    }\n",
              "\n",
              "    [theme=dark] .colab-df-convert:hover {\n",
              "      background-color: #434B5C;\n",
              "      box-shadow: 0px 1px 3px 1px rgba(0, 0, 0, 0.15);\n",
              "      filter: drop-shadow(0px 1px 2px rgba(0, 0, 0, 0.3));\n",
              "      fill: #FFFFFF;\n",
              "    }\n",
              "  </style>\n",
              "\n",
              "      <script>\n",
              "        const buttonEl =\n",
              "          document.querySelector('#df-1ac60091-aea3-4581-8976-0a690eb2e4ce button.colab-df-convert');\n",
              "        buttonEl.style.display =\n",
              "          google.colab.kernel.accessAllowed ? 'block' : 'none';\n",
              "\n",
              "        async function convertToInteractive(key) {\n",
              "          const element = document.querySelector('#df-1ac60091-aea3-4581-8976-0a690eb2e4ce');\n",
              "          const dataTable =\n",
              "            await google.colab.kernel.invokeFunction('convertToInteractive',\n",
              "                                                     [key], {});\n",
              "          if (!dataTable) return;\n",
              "\n",
              "          const docLinkHtml = 'Like what you see? Visit the ' +\n",
              "            '<a target=\"_blank\" href=https://colab.research.google.com/notebooks/data_table.ipynb>data table notebook</a>'\n",
              "            + ' to learn more about interactive tables.';\n",
              "          element.innerHTML = '';\n",
              "          dataTable['output_type'] = 'display_data';\n",
              "          await google.colab.output.renderOutput(dataTable, element);\n",
              "          const docLink = document.createElement('div');\n",
              "          docLink.innerHTML = docLinkHtml;\n",
              "          element.appendChild(docLink);\n",
              "        }\n",
              "      </script>\n",
              "    </div>\n",
              "  </div>\n",
              "  "
            ],
            "text/plain": [
              "   index  INVC_CONT\n",
              "0  32000          0\n",
              "1  32001          0\n",
              "2  32002          0\n",
              "3  32003          0\n",
              "4  32004          0"
            ]
          },
          "metadata": {},
          "execution_count": 10
        }
      ]
    },
    {
      "cell_type": "markdown",
      "source": [
        "FIRST STEP 결과 : 데이터는 운송의 고유번호와 카테고리(대,소), 운송량으로 구성되어 있다. 카테고리 만으로 운송량을 예측하거나, 혹은 고유번호에서 숨겨진 의미를 찾아야 할 것으로 보인다. "
      ],
      "metadata": {
        "id": "V4csikKchBQC"
      }
    },
    {
      "cell_type": "markdown",
      "source": [
        "# **1.5 데이터 전처리**"
      ],
      "metadata": {
        "id": "1_S8IDidWSTd"
      }
    },
    {
      "cell_type": "code",
      "source": [
        "# train과 test의 고유번호 정보를 str로 변환\n",
        "train[['SEND_SPG_INNB', 'REC_SPG_INNB']] = train[['SEND_SPG_INNB', 'REC_SPG_INNB']].astype(str)\n",
        "test[['SEND_SPG_INNB', 'REC_SPG_INNB']] = test[['SEND_SPG_INNB', 'REC_SPG_INNB']].astype(str)\n",
        "\n",
        "\n",
        "# 추가 데이터는 총 10자리이기에 train, test 고유번호도 잘라줘야 함.\n",
        "train['SEND_SPG_INNB'] = train['SEND_SPG_INNB'].str[:10]\n",
        "train['REC_SPG_INNB'] = train['REC_SPG_INNB'].str[:10]\n",
        "test['SEND_SPG_INNB'] = test['SEND_SPG_INNB'].str[:10]\n",
        "test['REC_SPG_INNB'] = test['REC_SPG_INNB'].str[:10]\n",
        "\n",
        "train.info()"
      ],
      "metadata": {
        "colab": {
          "base_uri": "https://localhost:8080/"
        },
        "id": "TCAMHYdwYZzl",
        "outputId": "d4d5b8ba-a197-4962-9967-dc97e7c7510d"
      },
      "execution_count": null,
      "outputs": [
        {
          "output_type": "stream",
          "name": "stdout",
          "text": [
            "<class 'pandas.core.frame.DataFrame'>\n",
            "RangeIndex: 32000 entries, 0 to 31999\n",
            "Data columns (total 6 columns):\n",
            " #   Column         Non-Null Count  Dtype \n",
            "---  ------         --------------  ----- \n",
            " 0   index          32000 non-null  int64 \n",
            " 1   SEND_SPG_INNB  32000 non-null  object\n",
            " 2   REC_SPG_INNB   32000 non-null  object\n",
            " 3   DL_GD_LCLS_NM  32000 non-null  object\n",
            " 4   DL_GD_MCLS_NM  32000 non-null  object\n",
            " 5   INVC_CONT      32000 non-null  int64 \n",
            "dtypes: int64(2), object(4)\n",
            "memory usage: 1.5+ MB\n"
          ]
        }
      ]
    },
    {
      "cell_type": "code",
      "source": [
        "# 추가 데이터를 train, test 데이터와 합칠 수 있도록 가공.\n",
        "\n",
        "building_file = building_file[['법정동코드', '시도명', '시군구명']].copy()\n",
        "building_file['법정동코드'] = building_file['법정동코드'].astype(str)\n",
        "building_file.info()"
      ],
      "metadata": {
        "colab": {
          "base_uri": "https://localhost:8080/"
        },
        "id": "_hHS7m8GWazJ",
        "outputId": "94b55059-07db-4a7b-8f45-dcdeb6948487"
      },
      "execution_count": null,
      "outputs": [
        {
          "output_type": "stream",
          "name": "stdout",
          "text": [
            "<class 'pandas.core.frame.DataFrame'>\n",
            "RangeIndex: 20565 entries, 0 to 20564\n",
            "Data columns (total 3 columns):\n",
            " #   Column  Non-Null Count  Dtype \n",
            "---  ------  --------------  ----- \n",
            " 0   법정동코드   20565 non-null  object\n",
            " 1   시도명     20565 non-null  object\n",
            " 2   시군구명    20395 non-null  object\n",
            "dtypes: object(3)\n",
            "memory usage: 482.1+ KB\n"
          ]
        }
      ]
    },
    {
      "cell_type": "code",
      "source": [
        "# train, test 데이터의 법정동 코드를 대조시켜 지역 정보 추가.\n",
        "\n",
        "train = pd.merge(train, building_file, how='left', left_on='SEND_SPG_INNB', right_on='법정동코드')\n",
        "train['송하인_시도명'] = train['시도명']\n",
        "train['송하인_시군구명'] = train['시군구명']\n",
        "train = train.drop(['시도명','시군구명','법정동코드'], axis=1)\n",
        "\n",
        "train = pd.merge(train, building_file, how='left', left_on='REC_SPG_INNB', right_on='법정동코드')\n",
        "train['송수인_시도명'] = train['시도명']\n",
        "train['송수인_시군구명'] = train['시군구명']\n",
        "train = train.drop(['시도명','시군구명','법정동코드'], axis=1)\n",
        "\n",
        "print('----------------------------')\n",
        "\n",
        "test.info()\n",
        "test = pd.merge(test, building_file, how='left', left_on='SEND_SPG_INNB', right_on='법정동코드')\n",
        "test['송하인_시도명'] = test['시도명']\n",
        "test['송하인_시군구명'] = test['시군구명']\n",
        "test = test.drop(['시도명','시군구명','법정동코드'], axis=1)\n",
        "\n",
        "test = pd.merge(test, building_file, how='left', left_on='REC_SPG_INNB', right_on='법정동코드')\n",
        "test['송수인_시도명'] = test['시도명']\n",
        "test['송수인_시군구명'] = test['시군구명']\n",
        "test = test.drop(['시도명','시군구명','법정동코드'], axis=1)"
      ],
      "metadata": {
        "colab": {
          "base_uri": "https://localhost:8080/"
        },
        "id": "PwE75ZtkWalX",
        "outputId": "77efb64f-52de-41d4-b373-6cae13225b21"
      },
      "execution_count": null,
      "outputs": [
        {
          "output_type": "stream",
          "name": "stdout",
          "text": [
            "----------------------------\n",
            "<class 'pandas.core.frame.DataFrame'>\n",
            "RangeIndex: 4640 entries, 0 to 4639\n",
            "Data columns (total 5 columns):\n",
            " #   Column         Non-Null Count  Dtype \n",
            "---  ------         --------------  ----- \n",
            " 0   index          4640 non-null   int64 \n",
            " 1   SEND_SPG_INNB  4640 non-null   object\n",
            " 2   REC_SPG_INNB   4640 non-null   object\n",
            " 3   DL_GD_LCLS_NM  4640 non-null   object\n",
            " 4   DL_GD_MCLS_NM  4640 non-null   object\n",
            "dtypes: int64(1), object(4)\n",
            "memory usage: 181.4+ KB\n"
          ]
        }
      ]
    },
    {
      "cell_type": "code",
      "source": [
        "print(train)\n",
        "print(test.info())"
      ],
      "metadata": {
        "colab": {
          "base_uri": "https://localhost:8080/"
        },
        "id": "SzLAxGpoiKG9",
        "outputId": "c5a05226-dbef-46b6-df60-e2e04c1037a9"
      },
      "execution_count": null,
      "outputs": [
        {
          "output_type": "stream",
          "name": "stdout",
          "text": [
            "       index SEND_SPG_INNB REC_SPG_INNB  ... 송하인_시군구명  송수인_시도명  송수인_시군구명\n",
            "0          0    1129000000   5011000000  ...      성북구  제주특별자치도       제주시\n",
            "1          1    1135000000   5011000000  ...      노원구  제주특별자치도       제주시\n",
            "2          2    1135000000   5011000000  ...      노원구  제주특별자치도       제주시\n",
            "3          3    1154500000   5011000000  ...      금천구  제주특별자치도       제주시\n",
            "4          4    1165000000   5011000000  ...      서초구  제주특별자치도       제주시\n",
            "...      ...           ...          ...  ...      ...      ...       ...\n",
            "31995  31995    5011000000   2635000000  ...      제주시    부산광역시      해운대구\n",
            "31996  31996    5011000000   1168000000  ...      제주시    서울특별시       강남구\n",
            "31997  31997    5011000000   4119700000  ...      제주시      NaN       NaN\n",
            "31998  31998    5011000000   1132000000  ...      제주시    서울특별시       도봉구\n",
            "31999  31999    5011000000   4719000000  ...      제주시     경상북도       구미시\n",
            "\n",
            "[32000 rows x 10 columns]\n",
            "<class 'pandas.core.frame.DataFrame'>\n",
            "Int64Index: 4640 entries, 0 to 4639\n",
            "Data columns (total 9 columns):\n",
            " #   Column         Non-Null Count  Dtype \n",
            "---  ------         --------------  ----- \n",
            " 0   index          4640 non-null   int64 \n",
            " 1   SEND_SPG_INNB  4640 non-null   object\n",
            " 2   REC_SPG_INNB   4640 non-null   object\n",
            " 3   DL_GD_LCLS_NM  4640 non-null   object\n",
            " 4   DL_GD_MCLS_NM  4640 non-null   object\n",
            " 5   송하인_시도명        4612 non-null   object\n",
            " 6   송하인_시군구명       4611 non-null   object\n",
            " 7   송수인_시도명        4549 non-null   object\n",
            " 8   송수인_시군구명       4526 non-null   object\n",
            "dtypes: int64(1), object(8)\n",
            "memory usage: 362.5+ KB\n",
            "None\n"
          ]
        }
      ]
    },
    {
      "cell_type": "code",
      "source": [
        "# train의 고유번호가 test에 없는 경우가 존재한다. 이 경우, train의 데이터 일부를 날려야 한다.\n",
        "# 송하인\n",
        "train_send_list = list(set(train['SEND_SPG_INNB'].tolist()))\n",
        "test_send_list = list(set(test['SEND_SPG_INNB'].tolist()))\n",
        "# 송수인\n",
        "train_rec_list = list(set(train['REC_SPG_INNB'].tolist()))\n",
        "test_rec_list = list(set(test['REC_SPG_INNB'].tolist()))\n",
        "# test에 있는 고유번호만 train에 남기기\n",
        "send_item = [item for item in train_send_list if item in test_send_list]\n",
        "rec_item = [item for item in train_rec_list if item in test_rec_list]\n",
        "train_t = train['SEND_SPG_INNB'].isin(send_item)"
      ],
      "metadata": {
        "id": "8sxe27S2DEGe"
      },
      "execution_count": null,
      "outputs": []
    },
    {
      "cell_type": "code",
      "source": [
        "# test에 있는 고유번호만 train에 남기기\n",
        "send_item = [item for item in train_send_list if item in test_send_list]\n",
        "rec_item = [item for item in train_rec_list if item in test_rec_list]\n",
        "train = train[train['SEND_SPG_INNB'].isin(send_item)]\n",
        "train = train[train['REC_SPG_INNB'].isin(rec_item)]"
      ],
      "metadata": {
        "id": "f_3ChMTxF4sI"
      },
      "execution_count": null,
      "outputs": []
    },
    {
      "cell_type": "code",
      "source": [
        "#['송하인_시군구명_거제시', '송하인_시군구명_양양군', '송하인_시군구명_울진군']"
      ],
      "metadata": {
        "id": "88ZoC7NNOfrF"
      },
      "execution_count": null,
      "outputs": []
    },
    {
      "cell_type": "code",
      "source": [
        "train.info()"
      ],
      "metadata": {
        "colab": {
          "base_uri": "https://localhost:8080/"
        },
        "id": "r-FRQ6vsHBEx",
        "outputId": "040c944e-48e5-4036-d5ff-9a45b061ab0d"
      },
      "execution_count": null,
      "outputs": [
        {
          "output_type": "stream",
          "name": "stdout",
          "text": [
            "<class 'pandas.core.frame.DataFrame'>\n",
            "Int64Index: 31547 entries, 0 to 31999\n",
            "Data columns (total 10 columns):\n",
            " #   Column         Non-Null Count  Dtype \n",
            "---  ------         --------------  ----- \n",
            " 0   index          31547 non-null  int64 \n",
            " 1   SEND_SPG_INNB  31547 non-null  object\n",
            " 2   REC_SPG_INNB   31547 non-null  object\n",
            " 3   DL_GD_LCLS_NM  31547 non-null  object\n",
            " 4   DL_GD_MCLS_NM  31547 non-null  object\n",
            " 5   INVC_CONT      31547 non-null  int64 \n",
            " 6   송하인_시도명        31415 non-null  object\n",
            " 7   송하인_시군구명       31411 non-null  object\n",
            " 8   송수인_시도명        30946 non-null  object\n",
            " 9   송수인_시군구명       30763 non-null  object\n",
            "dtypes: int64(2), object(8)\n",
            "memory usage: 2.6+ MB\n"
          ]
        }
      ]
    },
    {
      "cell_type": "markdown",
      "source": [
        "지역, 카테고리만으로 일단 예측 실행.\n",
        "그리고 결측치 어떻게 처리할 것인지 방안을 생각해야 함.\n",
        "지역을 합칠 것인지, 그냥 지역구와 큰 지역을 나눠서 변수로 집어넣을 것인지도 생각. "
      ],
      "metadata": {
        "id": "QcvNVCPikSVs"
      }
    },
    {
      "cell_type": "markdown",
      "source": [
        "# **2. EDA**"
      ],
      "metadata": {
        "id": "SvMKtRLZdywa"
      }
    },
    {
      "cell_type": "markdown",
      "source": [
        "A. 데이터 규모, 내용 파악"
      ],
      "metadata": {
        "id": "lWDguWqqfebL"
      }
    },
    {
      "cell_type": "code",
      "source": [
        "# trian: 32000개, test: 4640개 / 결측치 없음\n",
        "\n",
        "print(train.info())\n",
        "print('----------------------------------------')\n",
        "print(test.info())"
      ],
      "metadata": {
        "colab": {
          "base_uri": "https://localhost:8080/"
        },
        "id": "rG4gE31Pfcky",
        "outputId": "3718accf-a283-4467-9c3c-fdee49c5f1b6"
      },
      "execution_count": null,
      "outputs": [
        {
          "output_type": "stream",
          "name": "stdout",
          "text": [
            "<class 'pandas.core.frame.DataFrame'>\n",
            "Int64Index: 31547 entries, 0 to 31999\n",
            "Data columns (total 10 columns):\n",
            " #   Column         Non-Null Count  Dtype \n",
            "---  ------         --------------  ----- \n",
            " 0   index          31547 non-null  int64 \n",
            " 1   SEND_SPG_INNB  31547 non-null  object\n",
            " 2   REC_SPG_INNB   31547 non-null  object\n",
            " 3   DL_GD_LCLS_NM  31547 non-null  object\n",
            " 4   DL_GD_MCLS_NM  31547 non-null  object\n",
            " 5   INVC_CONT      31547 non-null  int64 \n",
            " 6   송하인_시도명        31415 non-null  object\n",
            " 7   송하인_시군구명       31411 non-null  object\n",
            " 8   송수인_시도명        30946 non-null  object\n",
            " 9   송수인_시군구명       30763 non-null  object\n",
            "dtypes: int64(2), object(8)\n",
            "memory usage: 2.6+ MB\n",
            "None\n",
            "----------------------------------------\n",
            "<class 'pandas.core.frame.DataFrame'>\n",
            "Int64Index: 4640 entries, 0 to 4639\n",
            "Data columns (total 9 columns):\n",
            " #   Column         Non-Null Count  Dtype \n",
            "---  ------         --------------  ----- \n",
            " 0   index          4640 non-null   int64 \n",
            " 1   SEND_SPG_INNB  4640 non-null   object\n",
            " 2   REC_SPG_INNB   4640 non-null   object\n",
            " 3   DL_GD_LCLS_NM  4640 non-null   object\n",
            " 4   DL_GD_MCLS_NM  4640 non-null   object\n",
            " 5   송하인_시도명        4612 non-null   object\n",
            " 6   송하인_시군구명       4611 non-null   object\n",
            " 7   송수인_시도명        4549 non-null   object\n",
            " 8   송수인_시군구명       4526 non-null   object\n",
            "dtypes: int64(1), object(8)\n",
            "memory usage: 362.5+ KB\n",
            "None\n"
          ]
        }
      ]
    },
    {
      "cell_type": "markdown",
      "source": [
        "B. 지역 분포& 운송량 상관관계 파악"
      ],
      "metadata": {
        "id": "JdMkf5-4gleL"
      }
    },
    {
      "cell_type": "code",
      "source": [
        "# train의 지역 정보 확인 \n",
        "for i in ['송하인_시도명', '송수인_시도명']:                         #'송하인_시군구명',  '송하인_시군구명'\n",
        "  distribution = train[i].value_counts() \n",
        "  print(distribution)\n",
        "  print('--------------------------')\n",
        "\n",
        "region_list = ['경기도', '제주특별자치도', '서울특별시', '부산광역시', '경상남도', '인천광역시', '충청남도', '경상북도',\n",
        "               '전라북도', '대구광역시', '전라남도', '강원도', '대전광역시', '충청북도', '광주광역시', '울산광역시', '세종특별자치시']\n",
        "\n",
        "# 제주 -> 제주 밖으로 보내는 경우가 훨씬 더 많다. "
      ],
      "metadata": {
        "colab": {
          "base_uri": "https://localhost:8080/"
        },
        "id": "egplzxezsFXV",
        "outputId": "19cd5733-6483-4169-fda3-b4cf8c7b9d8a"
      },
      "execution_count": null,
      "outputs": [
        {
          "output_type": "stream",
          "name": "stdout",
          "text": [
            "제주특별자치도    25302\n",
            "경기도         3805\n",
            "서울특별시        822\n",
            "대전광역시        227\n",
            "대구광역시        168\n",
            "부산광역시        154\n",
            "충청남도         150\n",
            "충청북도         144\n",
            "경상북도         134\n",
            "전라북도         124\n",
            "인천광역시        109\n",
            "강원도           96\n",
            "경상남도          77\n",
            "전라남도          53\n",
            "광주광역시         46\n",
            "세종특별자치시        4\n",
            "Name: 송하인_시도명, dtype: int64\n",
            "--------------------------\n",
            "경기도        6704\n",
            "제주특별자치도    6422\n",
            "서울특별시      4984\n",
            "부산광역시      1548\n",
            "경상남도       1397\n",
            "인천광역시      1267\n",
            "충청남도       1182\n",
            "경상북도       1136\n",
            "전라북도        927\n",
            "대구광역시       911\n",
            "전라남도        885\n",
            "강원도         860\n",
            "대전광역시       682\n",
            "충청북도        678\n",
            "광주광역시       636\n",
            "울산광역시       544\n",
            "세종특별자치시     183\n",
            "Name: 송수인_시도명, dtype: int64\n",
            "--------------------------\n"
          ]
        }
      ]
    },
    {
      "cell_type": "code",
      "source": [
        "# 가공식품, 건강용품, 기타패션의류, 농산물, 축산 -> 지역별 평균 + 표준편차 확인하고, 차이가 없으면 사실상 지역 정보는 무의미한 것으로. \n",
        "region_df = {'지역' : [], '가공식품':[], '건강용품':[], '기타패션의류':[], '농산물':[], '축산':[]}\n",
        "for region in  region_list:\n",
        "    food_mean = train['INVC_CONT'][(train['SEND_SPG_INNB'] == region) & (train['DL_GD_MCLS_NM'] == '가공식품')].mean()\n",
        "    food_std = train['INVC_CONT'][(train['SEND_SPG_INNB'] == region) & (train['DL_GD_MCLS_NM'] == '가공식품')].std()\n",
        "    health_mean = train['INVC_CONT'][(train['SEND_SPG_INNB'] == region) & (train['DL_GD_MCLS_NM'] == '건강용품')].mean()\n",
        "    health_std = train['INVC_CONT'][(train['SEND_SPG_INNB'] == region) & (train['DL_GD_MCLS_NM'] == '건강용품')].std()\n",
        "    fashion_mean = train['INVC_CONT'][(train['SEND_SPG_INNB'] == region) & (train['DL_GD_MCLS_NM'] == '기타패션의류')].mean()\n",
        "    fashion_std = train['INVC_CONT'][(train['SEND_SPG_INNB'] == region) & (train['DL_GD_MCLS_NM'] == '기타패션의류')].std()\n",
        "    vege_mean = train['INVC_CONT'][(train['SEND_SPG_INNB'] == region) & (train['DL_GD_MCLS_NM'] == '농산물')].mean()\n",
        "    vege_std = train['INVC_CONT'][(train['SEND_SPG_INNB'] == region) & (train['DL_GD_MCLS_NM'] == '농산물')].std()\n",
        "    cow_mean = train['INVC_CONT'][(train['SEND_SPG_INNB'] == region) & (train['DL_GD_MCLS_NM'] == '축산')].mean()\n",
        "    cow_std = train['INVC_CONT'][(train['SEND_SPG_INNB'] == region) & (train['DL_GD_MCLS_NM'] == '축산')].std()\n",
        "    \n",
        "    region_df['지역']= region\n",
        "    region_df['가공식품']= food_mean\n",
        "    region_df['건강용품']= health_mean\n",
        "    region_df['기타패션의류']= fashion_mean\n",
        "    region_df['농산물']= vege_mean\n",
        "    region_df['축산']= cow_mean\n",
        "\n",
        "\n",
        "region_df"
      ],
      "metadata": {
        "colab": {
          "base_uri": "https://localhost:8080/"
        },
        "id": "nah7WPinivME",
        "outputId": "8e165493-188d-46bf-8507-a08a54d4e677"
      },
      "execution_count": null,
      "outputs": [
        {
          "output_type": "execute_result",
          "data": {
            "text/plain": [
              "{'가공식품': nan,\n",
              " '건강용품': nan,\n",
              " '기타패션의류': nan,\n",
              " '농산물': nan,\n",
              " '지역': '세종특별자치시',\n",
              " '축산': nan}"
            ]
          },
          "metadata": {},
          "execution_count": 22
        }
      ]
    },
    {
      "cell_type": "markdown",
      "source": [
        "C. 카테고리 분포& 운송량 상관관계 파악"
      ],
      "metadata": {
        "id": "mnH8CXDcgY8R"
      }
    },
    {
      "cell_type": "code",
      "source": [
        "# 카테고리 종류& 분포 파악\n",
        "\n",
        "print('대 카테고리')\n",
        "print(train['DL_GD_LCLS_NM'].value_counts())\n",
        "print('------------------------------------------')\n",
        "for i in ['식품', '생활/건강', '여행/문화', '패션의류', '디지털/가전', '화장품/미용']:\n",
        "  print(train['DL_GD_MCLS_NM'][train['DL_GD_LCLS_NM'] == i].value_counts())\n",
        "  print('------------------------------------------')"
      ],
      "metadata": {
        "colab": {
          "base_uri": "https://localhost:8080/"
        },
        "id": "rhPvlZYngci5",
        "outputId": "eb3f98f2-3985-42e3-8704-88e4c7a98cca"
      },
      "execution_count": null,
      "outputs": [
        {
          "output_type": "stream",
          "name": "stdout",
          "text": [
            "대 카테고리\n",
            "식품        27396\n",
            "생활/건강      1979\n",
            "여행/문화      1170\n",
            "패션의류        546\n",
            "디지털/가전      232\n",
            "화장품/미용      224\n",
            "Name: DL_GD_LCLS_NM, dtype: int64\n",
            "------------------------------------------\n",
            "농산물          22044\n",
            "음료            1107\n",
            "수산             907\n",
            "가공식품           874\n",
            "기타식품           712\n",
            "건강식품           631\n",
            "축산             403\n",
            "냉동/간편조리식품      399\n",
            "과자             319\n",
            "Name: DL_GD_MCLS_NM, dtype: int64\n",
            "------------------------------------------\n",
            "음반         635\n",
            "반려동물       353\n",
            "생활용품       336\n",
            "주방용품       310\n",
            "문구/사무용품    176\n",
            "건강용품       169\n",
            "Name: DL_GD_MCLS_NM, dtype: int64\n",
            "------------------------------------------\n",
            "문화컨텐츠    1170\n",
            "Name: DL_GD_MCLS_NM, dtype: int64\n",
            "------------------------------------------\n",
            "상의        313\n",
            "기타패션의류    233\n",
            "Name: DL_GD_MCLS_NM, dtype: int64\n",
            "------------------------------------------\n",
            "기타디지털/가전    232\n",
            "Name: DL_GD_MCLS_NM, dtype: int64\n",
            "------------------------------------------\n",
            "스킨케어    224\n",
            "Name: DL_GD_MCLS_NM, dtype: int64\n",
            "------------------------------------------\n"
          ]
        }
      ]
    },
    {
      "cell_type": "code",
      "source": [
        "print('대 카테고리')\n",
        "print(test['DL_GD_LCLS_NM'].value_counts())\n",
        "print('------------------------------------------')\n",
        "for i in ['식품', '생활/건강', '여행/문화', '패션의류', '디지털/가전', '화장품/미용']:\n",
        "  print(test['DL_GD_MCLS_NM'][test['DL_GD_LCLS_NM'] == i].value_counts())\n",
        "  print('------------------------------------------')"
      ],
      "metadata": {
        "colab": {
          "base_uri": "https://localhost:8080/"
        },
        "id": "2MrVT8SuMrB9",
        "outputId": "7a484ad8-cd8f-4bfd-afff-519870aec256"
      },
      "execution_count": null,
      "outputs": [
        {
          "output_type": "stream",
          "name": "stdout",
          "text": [
            "대 카테고리\n",
            "식품        4047\n",
            "생활/건강      277\n",
            "여행/문화      171\n",
            "패션의류        82\n",
            "디지털/가전      34\n",
            "화장품/미용      29\n",
            "Name: DL_GD_LCLS_NM, dtype: int64\n",
            "------------------------------------------\n",
            "농산물          3239\n",
            "음료            167\n",
            "수산            144\n",
            "가공식품          134\n",
            "기타식품          107\n",
            "건강식품           88\n",
            "축산             61\n",
            "냉동/간편조리식품      55\n",
            "과자             52\n",
            "Name: DL_GD_MCLS_NM, dtype: int64\n",
            "------------------------------------------\n",
            "음반         85\n",
            "생활용품       54\n",
            "주방용품       47\n",
            "반려동물       36\n",
            "문구/사무용품    28\n",
            "건강용품       27\n",
            "Name: DL_GD_MCLS_NM, dtype: int64\n",
            "------------------------------------------\n",
            "문화컨텐츠    171\n",
            "Name: DL_GD_MCLS_NM, dtype: int64\n",
            "------------------------------------------\n",
            "상의        47\n",
            "기타패션의류    35\n",
            "Name: DL_GD_MCLS_NM, dtype: int64\n",
            "------------------------------------------\n",
            "기타디지털/가전    34\n",
            "Name: DL_GD_MCLS_NM, dtype: int64\n",
            "------------------------------------------\n",
            "스킨케어    29\n",
            "Name: DL_GD_MCLS_NM, dtype: int64\n",
            "------------------------------------------\n"
          ]
        }
      ]
    },
    {
      "cell_type": "code",
      "source": [
        "# 대_카테고리와 운송량 / 운송량 합계는 식품, 생활&건강 파트에서 가장 많이 나왔다. 다만, 평균 1회 운송량은 패션의류, 디지털&가전에서 높게 나타났다. \n",
        "\n",
        "dict = {'카테고리': [], '합계': [], '평균': [], '표준편차': []}\n",
        "for i in ['식품', '생활/건강', '여행/문화', '패션의류', '디지털/가전', '화장품/미용']:\n",
        "  sum = train['INVC_CONT'][train['DL_GD_LCLS_NM'] == i].sum(axis=0, skipna=False)\n",
        "  average = train['INVC_CONT'][train['DL_GD_LCLS_NM'] == i].mean(axis=0, skipna=False)\n",
        "  std = train['INVC_CONT'][train['DL_GD_LCLS_NM'] == i].std()\n",
        "  dict['카테고리'].append(i)\n",
        "  dict['합계'].append(sum)\n",
        "  dict['평균'].append(average)\n",
        "  dict['표준편차'].append(std)\n",
        "\n",
        "big_cate = pd.DataFrame(dict)\n",
        "big_cate"
      ],
      "metadata": {
        "id": "pMHxvvyLz0KG",
        "colab": {
          "base_uri": "https://localhost:8080/",
          "height": 1000
        },
        "outputId": "876ab20d-d40e-4c8c-d5ed-8ba965dea84e"
      },
      "execution_count": null,
      "outputs": [
        {
          "output_type": "stream",
          "name": "stderr",
          "text": [
            "findfont: Font family ['NanumBarunGothic'] not found. Falling back to DejaVu Sans.\n",
            "/usr/local/lib/python3.7/dist-packages/matplotlib/backends/backend_agg.py:214: RuntimeWarning: Glyph 49885 missing from current font.\n",
            "  font.set_text(s, 0.0, flags=flags)\n",
            "/usr/local/lib/python3.7/dist-packages/matplotlib/backends/backend_agg.py:214: RuntimeWarning: Glyph 54408 missing from current font.\n",
            "  font.set_text(s, 0.0, flags=flags)\n",
            "/usr/local/lib/python3.7/dist-packages/matplotlib/backends/backend_agg.py:214: RuntimeWarning: Glyph 49373 missing from current font.\n",
            "  font.set_text(s, 0.0, flags=flags)\n",
            "/usr/local/lib/python3.7/dist-packages/matplotlib/backends/backend_agg.py:214: RuntimeWarning: Glyph 54876 missing from current font.\n",
            "  font.set_text(s, 0.0, flags=flags)\n",
            "/usr/local/lib/python3.7/dist-packages/matplotlib/backends/backend_agg.py:214: RuntimeWarning: Glyph 44148 missing from current font.\n",
            "  font.set_text(s, 0.0, flags=flags)\n",
            "/usr/local/lib/python3.7/dist-packages/matplotlib/backends/backend_agg.py:214: RuntimeWarning: Glyph 44053 missing from current font.\n",
            "  font.set_text(s, 0.0, flags=flags)\n",
            "/usr/local/lib/python3.7/dist-packages/matplotlib/backends/backend_agg.py:214: RuntimeWarning: Glyph 50668 missing from current font.\n",
            "  font.set_text(s, 0.0, flags=flags)\n",
            "/usr/local/lib/python3.7/dist-packages/matplotlib/backends/backend_agg.py:214: RuntimeWarning: Glyph 54665 missing from current font.\n",
            "  font.set_text(s, 0.0, flags=flags)\n",
            "/usr/local/lib/python3.7/dist-packages/matplotlib/backends/backend_agg.py:214: RuntimeWarning: Glyph 47928 missing from current font.\n",
            "  font.set_text(s, 0.0, flags=flags)\n",
            "/usr/local/lib/python3.7/dist-packages/matplotlib/backends/backend_agg.py:214: RuntimeWarning: Glyph 54868 missing from current font.\n",
            "  font.set_text(s, 0.0, flags=flags)\n",
            "/usr/local/lib/python3.7/dist-packages/matplotlib/backends/backend_agg.py:214: RuntimeWarning: Glyph 54056 missing from current font.\n",
            "  font.set_text(s, 0.0, flags=flags)\n",
            "/usr/local/lib/python3.7/dist-packages/matplotlib/backends/backend_agg.py:214: RuntimeWarning: Glyph 49496 missing from current font.\n",
            "  font.set_text(s, 0.0, flags=flags)\n",
            "/usr/local/lib/python3.7/dist-packages/matplotlib/backends/backend_agg.py:214: RuntimeWarning: Glyph 51032 missing from current font.\n",
            "  font.set_text(s, 0.0, flags=flags)\n",
            "/usr/local/lib/python3.7/dist-packages/matplotlib/backends/backend_agg.py:214: RuntimeWarning: Glyph 47448 missing from current font.\n",
            "  font.set_text(s, 0.0, flags=flags)\n",
            "/usr/local/lib/python3.7/dist-packages/matplotlib/backends/backend_agg.py:214: RuntimeWarning: Glyph 46356 missing from current font.\n",
            "  font.set_text(s, 0.0, flags=flags)\n",
            "/usr/local/lib/python3.7/dist-packages/matplotlib/backends/backend_agg.py:214: RuntimeWarning: Glyph 51648 missing from current font.\n",
            "  font.set_text(s, 0.0, flags=flags)\n",
            "/usr/local/lib/python3.7/dist-packages/matplotlib/backends/backend_agg.py:214: RuntimeWarning: Glyph 53560 missing from current font.\n",
            "  font.set_text(s, 0.0, flags=flags)\n",
            "/usr/local/lib/python3.7/dist-packages/matplotlib/backends/backend_agg.py:214: RuntimeWarning: Glyph 44032 missing from current font.\n",
            "  font.set_text(s, 0.0, flags=flags)\n",
            "/usr/local/lib/python3.7/dist-packages/matplotlib/backends/backend_agg.py:214: RuntimeWarning: Glyph 51204 missing from current font.\n",
            "  font.set_text(s, 0.0, flags=flags)\n",
            "/usr/local/lib/python3.7/dist-packages/matplotlib/backends/backend_agg.py:214: RuntimeWarning: Glyph 51109 missing from current font.\n",
            "  font.set_text(s, 0.0, flags=flags)\n",
            "/usr/local/lib/python3.7/dist-packages/matplotlib/backends/backend_agg.py:214: RuntimeWarning: Glyph 48120 missing from current font.\n",
            "  font.set_text(s, 0.0, flags=flags)\n",
            "/usr/local/lib/python3.7/dist-packages/matplotlib/backends/backend_agg.py:214: RuntimeWarning: Glyph 50857 missing from current font.\n",
            "  font.set_text(s, 0.0, flags=flags)\n",
            "/usr/local/lib/python3.7/dist-packages/matplotlib/backends/backend_agg.py:183: RuntimeWarning: Glyph 49885 missing from current font.\n",
            "  font.set_text(s, 0, flags=flags)\n",
            "/usr/local/lib/python3.7/dist-packages/matplotlib/backends/backend_agg.py:183: RuntimeWarning: Glyph 54408 missing from current font.\n",
            "  font.set_text(s, 0, flags=flags)\n",
            "/usr/local/lib/python3.7/dist-packages/matplotlib/backends/backend_agg.py:183: RuntimeWarning: Glyph 49373 missing from current font.\n",
            "  font.set_text(s, 0, flags=flags)\n",
            "/usr/local/lib/python3.7/dist-packages/matplotlib/backends/backend_agg.py:183: RuntimeWarning: Glyph 54876 missing from current font.\n",
            "  font.set_text(s, 0, flags=flags)\n",
            "/usr/local/lib/python3.7/dist-packages/matplotlib/backends/backend_agg.py:183: RuntimeWarning: Glyph 44148 missing from current font.\n",
            "  font.set_text(s, 0, flags=flags)\n",
            "/usr/local/lib/python3.7/dist-packages/matplotlib/backends/backend_agg.py:183: RuntimeWarning: Glyph 44053 missing from current font.\n",
            "  font.set_text(s, 0, flags=flags)\n",
            "/usr/local/lib/python3.7/dist-packages/matplotlib/backends/backend_agg.py:183: RuntimeWarning: Glyph 50668 missing from current font.\n",
            "  font.set_text(s, 0, flags=flags)\n",
            "/usr/local/lib/python3.7/dist-packages/matplotlib/backends/backend_agg.py:183: RuntimeWarning: Glyph 54665 missing from current font.\n",
            "  font.set_text(s, 0, flags=flags)\n",
            "/usr/local/lib/python3.7/dist-packages/matplotlib/backends/backend_agg.py:183: RuntimeWarning: Glyph 47928 missing from current font.\n",
            "  font.set_text(s, 0, flags=flags)\n",
            "/usr/local/lib/python3.7/dist-packages/matplotlib/backends/backend_agg.py:183: RuntimeWarning: Glyph 54868 missing from current font.\n",
            "  font.set_text(s, 0, flags=flags)\n",
            "/usr/local/lib/python3.7/dist-packages/matplotlib/backends/backend_agg.py:183: RuntimeWarning: Glyph 54056 missing from current font.\n",
            "  font.set_text(s, 0, flags=flags)\n",
            "/usr/local/lib/python3.7/dist-packages/matplotlib/backends/backend_agg.py:183: RuntimeWarning: Glyph 49496 missing from current font.\n",
            "  font.set_text(s, 0, flags=flags)\n",
            "/usr/local/lib/python3.7/dist-packages/matplotlib/backends/backend_agg.py:183: RuntimeWarning: Glyph 51032 missing from current font.\n",
            "  font.set_text(s, 0, flags=flags)\n",
            "/usr/local/lib/python3.7/dist-packages/matplotlib/backends/backend_agg.py:183: RuntimeWarning: Glyph 47448 missing from current font.\n",
            "  font.set_text(s, 0, flags=flags)\n",
            "/usr/local/lib/python3.7/dist-packages/matplotlib/backends/backend_agg.py:183: RuntimeWarning: Glyph 46356 missing from current font.\n",
            "  font.set_text(s, 0, flags=flags)\n",
            "/usr/local/lib/python3.7/dist-packages/matplotlib/backends/backend_agg.py:183: RuntimeWarning: Glyph 51648 missing from current font.\n",
            "  font.set_text(s, 0, flags=flags)\n",
            "/usr/local/lib/python3.7/dist-packages/matplotlib/backends/backend_agg.py:183: RuntimeWarning: Glyph 53560 missing from current font.\n",
            "  font.set_text(s, 0, flags=flags)\n",
            "/usr/local/lib/python3.7/dist-packages/matplotlib/backends/backend_agg.py:183: RuntimeWarning: Glyph 44032 missing from current font.\n",
            "  font.set_text(s, 0, flags=flags)\n",
            "/usr/local/lib/python3.7/dist-packages/matplotlib/backends/backend_agg.py:183: RuntimeWarning: Glyph 51204 missing from current font.\n",
            "  font.set_text(s, 0, flags=flags)\n",
            "/usr/local/lib/python3.7/dist-packages/matplotlib/backends/backend_agg.py:183: RuntimeWarning: Glyph 51109 missing from current font.\n",
            "  font.set_text(s, 0, flags=flags)\n",
            "/usr/local/lib/python3.7/dist-packages/matplotlib/backends/backend_agg.py:183: RuntimeWarning: Glyph 48120 missing from current font.\n",
            "  font.set_text(s, 0, flags=flags)\n",
            "/usr/local/lib/python3.7/dist-packages/matplotlib/backends/backend_agg.py:183: RuntimeWarning: Glyph 50857 missing from current font.\n",
            "  font.set_text(s, 0, flags=flags)\n",
            "/usr/local/lib/python3.7/dist-packages/matplotlib/backends/backend_agg.py:214: RuntimeWarning: Glyph 52852 missing from current font.\n",
            "  font.set_text(s, 0.0, flags=flags)\n",
            "/usr/local/lib/python3.7/dist-packages/matplotlib/backends/backend_agg.py:214: RuntimeWarning: Glyph 53580 missing from current font.\n",
            "  font.set_text(s, 0.0, flags=flags)\n",
            "/usr/local/lib/python3.7/dist-packages/matplotlib/backends/backend_agg.py:214: RuntimeWarning: Glyph 44256 missing from current font.\n",
            "  font.set_text(s, 0.0, flags=flags)\n",
            "/usr/local/lib/python3.7/dist-packages/matplotlib/backends/backend_agg.py:214: RuntimeWarning: Glyph 47532 missing from current font.\n",
            "  font.set_text(s, 0.0, flags=flags)\n",
            "/usr/local/lib/python3.7/dist-packages/matplotlib/backends/backend_agg.py:183: RuntimeWarning: Glyph 52852 missing from current font.\n",
            "  font.set_text(s, 0, flags=flags)\n",
            "/usr/local/lib/python3.7/dist-packages/matplotlib/backends/backend_agg.py:183: RuntimeWarning: Glyph 53580 missing from current font.\n",
            "  font.set_text(s, 0, flags=flags)\n",
            "/usr/local/lib/python3.7/dist-packages/matplotlib/backends/backend_agg.py:183: RuntimeWarning: Glyph 44256 missing from current font.\n",
            "  font.set_text(s, 0, flags=flags)\n",
            "/usr/local/lib/python3.7/dist-packages/matplotlib/backends/backend_agg.py:183: RuntimeWarning: Glyph 47532 missing from current font.\n",
            "  font.set_text(s, 0, flags=flags)\n",
            "/usr/local/lib/python3.7/dist-packages/matplotlib/backends/backend_agg.py:214: RuntimeWarning: Glyph 54633 missing from current font.\n",
            "  font.set_text(s, 0.0, flags=flags)\n",
            "/usr/local/lib/python3.7/dist-packages/matplotlib/backends/backend_agg.py:214: RuntimeWarning: Glyph 44228 missing from current font.\n",
            "  font.set_text(s, 0.0, flags=flags)\n",
            "/usr/local/lib/python3.7/dist-packages/matplotlib/backends/backend_agg.py:183: RuntimeWarning: Glyph 54633 missing from current font.\n",
            "  font.set_text(s, 0, flags=flags)\n",
            "/usr/local/lib/python3.7/dist-packages/matplotlib/backends/backend_agg.py:183: RuntimeWarning: Glyph 44228 missing from current font.\n",
            "  font.set_text(s, 0, flags=flags)\n"
          ]
        },
        {
          "output_type": "display_data",
          "data": {
            "image/png": "[encoded data removed]",
            "text/plain": [
              "<Figure size 432x288 with 1 Axes>"
            ]
          },
          "metadata": {
            "needs_background": "light"
          }
        }
      ]
    },
    {
      "cell_type": "code",
      "source": [
        "# 소_카테고리와 운송량 / 역시나 농산물, 음료 파트에서 가장 많이 나왔다. 하지만 평균 운송량은 기타패션의류/건강용품/축산에서 가장 많이 나온 것으로 집계된다. \n",
        "\n",
        "dict = {'카테고리': [], '합계': [], '평균': [], '표준편차': []}\n",
        "for i in ['농산물','음료','수산','가공식품','기타식품','건강식품','축산','냉동/간편조리식품', \n",
        "          '과자','음반', '반려동물','생활용품','주방용품','문구/사무용품','건강용품','문화컨텐츠',\n",
        "          '상의','기타패션의류','기타디지털/가전', '스킨케어']:\n",
        "  sum = train['INVC_CONT'][train['DL_GD_MCLS_NM'] == i].sum(axis=0, skipna=False)\n",
        "  average = train['INVC_CONT'][train['DL_GD_MCLS_NM'] == i].mean(axis=0, skipna=False)\n",
        "  std = train['INVC_CONT'][train['DL_GD_MCLS_NM'] == i].std()\n",
        "  dict['카테고리'].append(i)\n",
        "  dict['합계'].append(sum)\n",
        "  dict['평균'].append(average)\n",
        "  dict['표준편차'].append(std)\n",
        "\n",
        "small_cate = pd.DataFrame(dict)\n",
        "small_cate"
      ],
      "metadata": {
        "id": "-9ymo4bxgt8o",
        "colab": {
          "base_uri": "https://localhost:8080/",
          "height": 677
        },
        "outputId": "ef1cb90a-73a3-49c6-8eb8-82b95deb62e3"
      },
      "execution_count": null,
      "outputs": [
        {
          "output_type": "execute_result",
          "data": {
            "text/html": [
              "<div>\n",
              "<style scoped>\n",
              "    .dataframe tbody tr th:only-of-type {\n",
              "        vertical-align: middle;\n",
              "    }\n",
              "\n",
              "    .dataframe tbody tr th {\n",
              "        vertical-align: top;\n",
              "    }\n",
              "\n",
              "    .dataframe thead th {\n",
              "        text-align: right;\n",
              "    }\n",
              "</style>\n",
              "<table border=\"1\" class=\"dataframe\">\n",
              "  <thead>\n",
              "    <tr style=\"text-align: right;\">\n",
              "      <th></th>\n",
              "      <th>카테고리</th>\n",
              "      <th>합계</th>\n",
              "      <th>평균</th>\n",
              "      <th>표준편차</th>\n",
              "    </tr>\n",
              "  </thead>\n",
              "  <tbody>\n",
              "    <tr>\n",
              "      <th>0</th>\n",
              "      <td>농산물</td>\n",
              "      <td>94647</td>\n",
              "      <td>4.29355</td>\n",
              "      <td>3.70099</td>\n",
              "    </tr>\n",
              "    <tr>\n",
              "      <th>1</th>\n",
              "      <td>음료</td>\n",
              "      <td>6393</td>\n",
              "      <td>5.77507</td>\n",
              "      <td>7.18227</td>\n",
              "    </tr>\n",
              "    <tr>\n",
              "      <th>2</th>\n",
              "      <td>수산</td>\n",
              "      <td>5151</td>\n",
              "      <td>5.67916</td>\n",
              "      <td>5.79560</td>\n",
              "    </tr>\n",
              "    <tr>\n",
              "      <th>3</th>\n",
              "      <td>가공식품</td>\n",
              "      <td>5891</td>\n",
              "      <td>6.74027</td>\n",
              "      <td>11.07540</td>\n",
              "    </tr>\n",
              "    <tr>\n",
              "      <th>4</th>\n",
              "      <td>기타식품</td>\n",
              "      <td>4412</td>\n",
              "      <td>6.19663</td>\n",
              "      <td>7.39355</td>\n",
              "    </tr>\n",
              "    <tr>\n",
              "      <th>5</th>\n",
              "      <td>건강식품</td>\n",
              "      <td>3621</td>\n",
              "      <td>5.73851</td>\n",
              "      <td>7.44438</td>\n",
              "    </tr>\n",
              "    <tr>\n",
              "      <th>6</th>\n",
              "      <td>축산</td>\n",
              "      <td>3351</td>\n",
              "      <td>8.31514</td>\n",
              "      <td>10.87182</td>\n",
              "    </tr>\n",
              "    <tr>\n",
              "      <th>7</th>\n",
              "      <td>냉동/간편조리식품</td>\n",
              "      <td>1983</td>\n",
              "      <td>4.96992</td>\n",
              "      <td>6.36488</td>\n",
              "    </tr>\n",
              "    <tr>\n",
              "      <th>8</th>\n",
              "      <td>과자</td>\n",
              "      <td>1716</td>\n",
              "      <td>5.37931</td>\n",
              "      <td>5.84848</td>\n",
              "    </tr>\n",
              "    <tr>\n",
              "      <th>9</th>\n",
              "      <td>음반</td>\n",
              "      <td>2574</td>\n",
              "      <td>4.05354</td>\n",
              "      <td>2.91525</td>\n",
              "    </tr>\n",
              "    <tr>\n",
              "      <th>10</th>\n",
              "      <td>반려동물</td>\n",
              "      <td>1570</td>\n",
              "      <td>4.44759</td>\n",
              "      <td>3.06802</td>\n",
              "    </tr>\n",
              "    <tr>\n",
              "      <th>11</th>\n",
              "      <td>생활용품</td>\n",
              "      <td>1647</td>\n",
              "      <td>4.90179</td>\n",
              "      <td>3.70146</td>\n",
              "    </tr>\n",
              "    <tr>\n",
              "      <th>12</th>\n",
              "      <td>주방용품</td>\n",
              "      <td>1764</td>\n",
              "      <td>5.69032</td>\n",
              "      <td>7.70119</td>\n",
              "    </tr>\n",
              "    <tr>\n",
              "      <th>13</th>\n",
              "      <td>문구/사무용품</td>\n",
              "      <td>1402</td>\n",
              "      <td>7.96591</td>\n",
              "      <td>8.56031</td>\n",
              "    </tr>\n",
              "    <tr>\n",
              "      <th>14</th>\n",
              "      <td>건강용품</td>\n",
              "      <td>1697</td>\n",
              "      <td>10.04142</td>\n",
              "      <td>14.87862</td>\n",
              "    </tr>\n",
              "    <tr>\n",
              "      <th>15</th>\n",
              "      <td>문화컨텐츠</td>\n",
              "      <td>5803</td>\n",
              "      <td>4.95983</td>\n",
              "      <td>6.18071</td>\n",
              "    </tr>\n",
              "    <tr>\n",
              "      <th>16</th>\n",
              "      <td>상의</td>\n",
              "      <td>1154</td>\n",
              "      <td>3.68690</td>\n",
              "      <td>1.79861</td>\n",
              "    </tr>\n",
              "    <tr>\n",
              "      <th>17</th>\n",
              "      <td>기타패션의류</td>\n",
              "      <td>2589</td>\n",
              "      <td>11.11159</td>\n",
              "      <td>29.64031</td>\n",
              "    </tr>\n",
              "    <tr>\n",
              "      <th>18</th>\n",
              "      <td>기타디지털/가전</td>\n",
              "      <td>1508</td>\n",
              "      <td>6.50000</td>\n",
              "      <td>9.10734</td>\n",
              "    </tr>\n",
              "    <tr>\n",
              "      <th>19</th>\n",
              "      <td>스킨케어</td>\n",
              "      <td>1024</td>\n",
              "      <td>4.57143</td>\n",
              "      <td>4.52836</td>\n",
              "    </tr>\n",
              "  </tbody>\n",
              "</table>\n",
              "</div>"
            ],
            "text/plain": [
              "         카테고리     합계       평균     표준편차\n",
              "0         농산물  94647  4.29355  3.70099\n",
              "1          음료   6393  5.77507  7.18227\n",
              "2          수산   5151  5.67916  5.79560\n",
              "3        가공식품   5891  6.74027 11.07540\n",
              "4        기타식품   4412  6.19663  7.39355\n",
              "5        건강식품   3621  5.73851  7.44438\n",
              "6          축산   3351  8.31514 10.87182\n",
              "7   냉동/간편조리식품   1983  4.96992  6.36488\n",
              "8          과자   1716  5.37931  5.84848\n",
              "9          음반   2574  4.05354  2.91525\n",
              "10       반려동물   1570  4.44759  3.06802\n",
              "11       생활용품   1647  4.90179  3.70146\n",
              "12       주방용품   1764  5.69032  7.70119\n",
              "13    문구/사무용품   1402  7.96591  8.56031\n",
              "14       건강용품   1697 10.04142 14.87862\n",
              "15      문화컨텐츠   5803  4.95983  6.18071\n",
              "16         상의   1154  3.68690  1.79861\n",
              "17     기타패션의류   2589 11.11159 29.64031\n",
              "18   기타디지털/가전   1508  6.50000  9.10734\n",
              "19       스킨케어   1024  4.57143  4.52836"
            ]
          },
          "metadata": {},
          "execution_count": 38
        }
      ]
    },
    {
      "cell_type": "markdown",
      "source": [
        "# **2.5 추가 데이터 전처리**"
      ],
      "metadata": {
        "id": "kebNbHfltKLU"
      }
    },
    {
      "cell_type": "code",
      "source": [
        "train.info()"
      ],
      "metadata": {
        "colab": {
          "base_uri": "https://localhost:8080/"
        },
        "id": "3hVvVMJDtb9z",
        "outputId": "360b65b8-4feb-4e30-b42f-8713f452921a"
      },
      "execution_count": null,
      "outputs": [
        {
          "output_type": "stream",
          "name": "stdout",
          "text": [
            "<class 'pandas.core.frame.DataFrame'>\n",
            "Int64Index: 31547 entries, 0 to 31999\n",
            "Data columns (total 10 columns):\n",
            " #   Column         Non-Null Count  Dtype \n",
            "---  ------         --------------  ----- \n",
            " 0   index          31547 non-null  int64 \n",
            " 1   SEND_SPG_INNB  31547 non-null  object\n",
            " 2   REC_SPG_INNB   31547 non-null  object\n",
            " 3   DL_GD_LCLS_NM  31547 non-null  object\n",
            " 4   DL_GD_MCLS_NM  31547 non-null  object\n",
            " 5   INVC_CONT      31547 non-null  int64 \n",
            " 6   송하인_시도명        31415 non-null  object\n",
            " 7   송하인_시군구명       31411 non-null  object\n",
            " 8   송수인_시도명        30946 non-null  object\n",
            " 9   송수인_시군구명       30763 non-null  object\n",
            "dtypes: int64(2), object(8)\n",
            "memory usage: 2.6+ MB\n"
          ]
        }
      ]
    },
    {
      "cell_type": "code",
      "source": [
        "# 지역과 물품 카테고리만 변수로 사용할 것이므로, 나머지 칼럼은 제거.\n",
        "target = train['INVC_CONT']\n",
        "df_train = train.drop(['index'], axis=1)\n",
        "df_test = test.drop(['index'], axis=1)"
      ],
      "metadata": {
        "id": "_VXt-p6XJHb3"
      },
      "execution_count": null,
      "outputs": []
    },
    {
      "cell_type": "code",
      "source": [
        "# 고유번호를 예측에 사용할 것이기에 object -> float\n",
        "df_train[['SEND_SPG_INNB', 'REC_SPG_INNB']] = df_train[['SEND_SPG_INNB', 'REC_SPG_INNB']].astype(int)\n",
        "df_test[['SEND_SPG_INNB', 'REC_SPG_INNB']] = df_test[['SEND_SPG_INNB', 'REC_SPG_INNB']].astype(int)"
      ],
      "metadata": {
        "id": "KTEiFO-YI0I1"
      },
      "execution_count": null,
      "outputs": []
    },
    {
      "cell_type": "code",
      "source": [
        "# one-hot encoding\n",
        "df_train = pd.get_dummies(df_train, dummy_na=True)\n",
        "df_test = pd.get_dummies(df_test, dummy_na=True)"
      ],
      "metadata": {
        "id": "sIAy6_PuJDT3"
      },
      "execution_count": null,
      "outputs": []
    },
    {
      "cell_type": "code",
      "source": [
        "# 상관관계 있는 컬럼만 남기기\n",
        "t_corr = df_train.corr()\n",
        "cor_fe = t_corr.index[abs(t_corr['INVC_CONT']) >= 0.05]\n",
        "cor_fe"
      ],
      "metadata": {
        "colab": {
          "base_uri": "https://localhost:8080/"
        },
        "id": "uKOj5Y6dIvZw",
        "outputId": "f5aa9e6d-fa14-471f-f256-380ff18f25f0"
      },
      "execution_count": null,
      "outputs": [
        {
          "output_type": "execute_result",
          "data": {
            "text/plain": [
              "Index(['SEND_SPG_INNB', 'REC_SPG_INNB', 'INVC_CONT', 'DL_GD_MCLS_NM_가공식품',\n",
              "       'DL_GD_MCLS_NM_건강용품', 'DL_GD_MCLS_NM_기타패션의류', 'DL_GD_MCLS_NM_농산물',\n",
              "       'DL_GD_MCLS_NM_축산', '송하인_시도명_경기도', '송하인_시도명_제주특별자치도',\n",
              "       '송하인_시군구명_안양시 동안구', '송하인_시군구명_영양군', '송하인_시군구명_영주시', '송수인_시도명_제주특별자치도',\n",
              "       '송수인_시군구명_제주시'],\n",
              "      dtype='object')"
            ]
          },
          "metadata": {},
          "execution_count": 49
        }
      ]
    },
    {
      "cell_type": "code",
      "source": [
        "# 지역과 물품 카테고리만 변수로 사용할 것이므로, 나머지 칼럼은 제거.\n",
        "target = train['INVC_CONT']\n",
        "df_train = df_train[cor_fe]\n",
        "df_train = df_train.drop(['INVC_CONT'], axis=1)\n",
        "df_test = df_test[['SEND_SPG_INNB', 'REC_SPG_INNB', 'DL_GD_MCLS_NM_가공식품',\n",
        "                  'DL_GD_MCLS_NM_건강용품', 'DL_GD_MCLS_NM_기타패션의류', 'DL_GD_MCLS_NM_농산물',\n",
        "                  'DL_GD_MCLS_NM_축산', '송하인_시도명_경기도', '송하인_시도명_제주특별자치도',\n",
        "                  '송하인_시군구명_안양시 동안구', '송하인_시군구명_영양군', '송하인_시군구명_영주시', '송수인_시도명_제주특별자치도', '송수인_시군구명_제주시']]"
      ],
      "metadata": {
        "id": "_KvN0UQltPfE"
      },
      "execution_count": null,
      "outputs": []
    },
    {
      "cell_type": "code",
      "source": [
        "df_train.head()"
      ],
      "metadata": {
        "colab": {
          "base_uri": "https://localhost:8080/",
          "height": 258
        },
        "id": "ws0TCiEzQUGB",
        "outputId": "7e165b13-2a9d-4dc6-b384-c35b13bfef0c"
      },
      "execution_count": null,
      "outputs": [
        {
          "output_type": "execute_result",
          "data": {
            "text/html": [
              "<div>\n",
              "<style scoped>\n",
              "    .dataframe tbody tr th:only-of-type {\n",
              "        vertical-align: middle;\n",
              "    }\n",
              "\n",
              "    .dataframe tbody tr th {\n",
              "        vertical-align: top;\n",
              "    }\n",
              "\n",
              "    .dataframe thead th {\n",
              "        text-align: right;\n",
              "    }\n",
              "</style>\n",
              "<table border=\"1\" class=\"dataframe\">\n",
              "  <thead>\n",
              "    <tr style=\"text-align: right;\">\n",
              "      <th></th>\n",
              "      <th>SEND_SPG_INNB</th>\n",
              "      <th>REC_SPG_INNB</th>\n",
              "      <th>DL_GD_MCLS_NM_가공식품</th>\n",
              "      <th>DL_GD_MCLS_NM_건강용품</th>\n",
              "      <th>DL_GD_MCLS_NM_기타패션의류</th>\n",
              "      <th>DL_GD_MCLS_NM_농산물</th>\n",
              "      <th>DL_GD_MCLS_NM_축산</th>\n",
              "      <th>송하인_시도명_경기도</th>\n",
              "      <th>송하인_시도명_제주특별자치도</th>\n",
              "      <th>송하인_시군구명_안양시 동안구</th>\n",
              "      <th>송하인_시군구명_영양군</th>\n",
              "      <th>송하인_시군구명_영주시</th>\n",
              "      <th>송수인_시도명_제주특별자치도</th>\n",
              "      <th>송수인_시군구명_제주시</th>\n",
              "    </tr>\n",
              "  </thead>\n",
              "  <tbody>\n",
              "    <tr>\n",
              "      <th>0</th>\n",
              "      <td>1129000000</td>\n",
              "      <td>5011000000</td>\n",
              "      <td>0</td>\n",
              "      <td>0</td>\n",
              "      <td>0</td>\n",
              "      <td>0</td>\n",
              "      <td>0</td>\n",
              "      <td>0</td>\n",
              "      <td>0</td>\n",
              "      <td>0</td>\n",
              "      <td>0</td>\n",
              "      <td>0</td>\n",
              "      <td>1</td>\n",
              "      <td>1</td>\n",
              "    </tr>\n",
              "    <tr>\n",
              "      <th>1</th>\n",
              "      <td>1135000000</td>\n",
              "      <td>5011000000</td>\n",
              "      <td>0</td>\n",
              "      <td>0</td>\n",
              "      <td>0</td>\n",
              "      <td>0</td>\n",
              "      <td>0</td>\n",
              "      <td>0</td>\n",
              "      <td>0</td>\n",
              "      <td>0</td>\n",
              "      <td>0</td>\n",
              "      <td>0</td>\n",
              "      <td>1</td>\n",
              "      <td>1</td>\n",
              "    </tr>\n",
              "    <tr>\n",
              "      <th>2</th>\n",
              "      <td>1135000000</td>\n",
              "      <td>5011000000</td>\n",
              "      <td>0</td>\n",
              "      <td>0</td>\n",
              "      <td>1</td>\n",
              "      <td>0</td>\n",
              "      <td>0</td>\n",
              "      <td>0</td>\n",
              "      <td>0</td>\n",
              "      <td>0</td>\n",
              "      <td>0</td>\n",
              "      <td>0</td>\n",
              "      <td>1</td>\n",
              "      <td>1</td>\n",
              "    </tr>\n",
              "    <tr>\n",
              "      <th>3</th>\n",
              "      <td>1154500000</td>\n",
              "      <td>5011000000</td>\n",
              "      <td>0</td>\n",
              "      <td>0</td>\n",
              "      <td>0</td>\n",
              "      <td>1</td>\n",
              "      <td>0</td>\n",
              "      <td>0</td>\n",
              "      <td>0</td>\n",
              "      <td>0</td>\n",
              "      <td>0</td>\n",
              "      <td>0</td>\n",
              "      <td>1</td>\n",
              "      <td>1</td>\n",
              "    </tr>\n",
              "    <tr>\n",
              "      <th>4</th>\n",
              "      <td>1165000000</td>\n",
              "      <td>5011000000</td>\n",
              "      <td>1</td>\n",
              "      <td>0</td>\n",
              "      <td>0</td>\n",
              "      <td>0</td>\n",
              "      <td>0</td>\n",
              "      <td>0</td>\n",
              "      <td>0</td>\n",
              "      <td>0</td>\n",
              "      <td>0</td>\n",
              "      <td>0</td>\n",
              "      <td>1</td>\n",
              "      <td>1</td>\n",
              "    </tr>\n",
              "  </tbody>\n",
              "</table>\n",
              "</div>"
            ],
            "text/plain": [
              "   SEND_SPG_INNB  REC_SPG_INNB  ...  송수인_시도명_제주특별자치도  송수인_시군구명_제주시\n",
              "0     1129000000    5011000000  ...                1             1\n",
              "1     1135000000    5011000000  ...                1             1\n",
              "2     1135000000    5011000000  ...                1             1\n",
              "3     1154500000    5011000000  ...                1             1\n",
              "4     1165000000    5011000000  ...                1             1\n",
              "\n",
              "[5 rows x 14 columns]"
            ]
          },
          "metadata": {},
          "execution_count": 60
        }
      ]
    },
    {
      "cell_type": "code",
      "source": [
        "df_test.head()"
      ],
      "metadata": {
        "colab": {
          "base_uri": "https://localhost:8080/",
          "height": 258
        },
        "id": "IfiSbBuhQYxe",
        "outputId": "a45b209a-1ba2-49d8-8f12-8d34a3744e10"
      },
      "execution_count": null,
      "outputs": [
        {
          "output_type": "execute_result",
          "data": {
            "text/html": [
              "<div>\n",
              "<style scoped>\n",
              "    .dataframe tbody tr th:only-of-type {\n",
              "        vertical-align: middle;\n",
              "    }\n",
              "\n",
              "    .dataframe tbody tr th {\n",
              "        vertical-align: top;\n",
              "    }\n",
              "\n",
              "    .dataframe thead th {\n",
              "        text-align: right;\n",
              "    }\n",
              "</style>\n",
              "<table border=\"1\" class=\"dataframe\">\n",
              "  <thead>\n",
              "    <tr style=\"text-align: right;\">\n",
              "      <th></th>\n",
              "      <th>SEND_SPG_INNB</th>\n",
              "      <th>REC_SPG_INNB</th>\n",
              "      <th>DL_GD_MCLS_NM_가공식품</th>\n",
              "      <th>DL_GD_MCLS_NM_건강용품</th>\n",
              "      <th>DL_GD_MCLS_NM_기타패션의류</th>\n",
              "      <th>DL_GD_MCLS_NM_농산물</th>\n",
              "      <th>DL_GD_MCLS_NM_축산</th>\n",
              "      <th>송하인_시도명_경기도</th>\n",
              "      <th>송하인_시도명_제주특별자치도</th>\n",
              "      <th>송하인_시군구명_안양시 동안구</th>\n",
              "      <th>송하인_시군구명_영양군</th>\n",
              "      <th>송하인_시군구명_영주시</th>\n",
              "      <th>송수인_시도명_제주특별자치도</th>\n",
              "      <th>송수인_시군구명_제주시</th>\n",
              "    </tr>\n",
              "  </thead>\n",
              "  <tbody>\n",
              "    <tr>\n",
              "      <th>0</th>\n",
              "      <td>5013000000</td>\n",
              "      <td>1165000000</td>\n",
              "      <td>0</td>\n",
              "      <td>0</td>\n",
              "      <td>0</td>\n",
              "      <td>1</td>\n",
              "      <td>0</td>\n",
              "      <td>0</td>\n",
              "      <td>1</td>\n",
              "      <td>0</td>\n",
              "      <td>0</td>\n",
              "      <td>0</td>\n",
              "      <td>0</td>\n",
              "      <td>0</td>\n",
              "    </tr>\n",
              "    <tr>\n",
              "      <th>1</th>\n",
              "      <td>5013000000</td>\n",
              "      <td>1154500000</td>\n",
              "      <td>0</td>\n",
              "      <td>0</td>\n",
              "      <td>0</td>\n",
              "      <td>1</td>\n",
              "      <td>0</td>\n",
              "      <td>0</td>\n",
              "      <td>1</td>\n",
              "      <td>0</td>\n",
              "      <td>0</td>\n",
              "      <td>0</td>\n",
              "      <td>0</td>\n",
              "      <td>0</td>\n",
              "    </tr>\n",
              "    <tr>\n",
              "      <th>2</th>\n",
              "      <td>5013000000</td>\n",
              "      <td>4139000000</td>\n",
              "      <td>0</td>\n",
              "      <td>0</td>\n",
              "      <td>0</td>\n",
              "      <td>1</td>\n",
              "      <td>0</td>\n",
              "      <td>0</td>\n",
              "      <td>1</td>\n",
              "      <td>0</td>\n",
              "      <td>0</td>\n",
              "      <td>0</td>\n",
              "      <td>0</td>\n",
              "      <td>0</td>\n",
              "    </tr>\n",
              "    <tr>\n",
              "      <th>3</th>\n",
              "      <td>5013000000</td>\n",
              "      <td>4221000000</td>\n",
              "      <td>0</td>\n",
              "      <td>0</td>\n",
              "      <td>0</td>\n",
              "      <td>1</td>\n",
              "      <td>0</td>\n",
              "      <td>0</td>\n",
              "      <td>1</td>\n",
              "      <td>0</td>\n",
              "      <td>0</td>\n",
              "      <td>0</td>\n",
              "      <td>0</td>\n",
              "      <td>0</td>\n",
              "    </tr>\n",
              "    <tr>\n",
              "      <th>4</th>\n",
              "      <td>5013000000</td>\n",
              "      <td>2726000000</td>\n",
              "      <td>0</td>\n",
              "      <td>0</td>\n",
              "      <td>0</td>\n",
              "      <td>1</td>\n",
              "      <td>0</td>\n",
              "      <td>0</td>\n",
              "      <td>1</td>\n",
              "      <td>0</td>\n",
              "      <td>0</td>\n",
              "      <td>0</td>\n",
              "      <td>0</td>\n",
              "      <td>0</td>\n",
              "    </tr>\n",
              "  </tbody>\n",
              "</table>\n",
              "</div>"
            ],
            "text/plain": [
              "   SEND_SPG_INNB  REC_SPG_INNB  ...  송수인_시도명_제주특별자치도  송수인_시군구명_제주시\n",
              "0     5013000000    1165000000  ...                0             0\n",
              "1     5013000000    1154500000  ...                0             0\n",
              "2     5013000000    4139000000  ...                0             0\n",
              "3     5013000000    4221000000  ...                0             0\n",
              "4     5013000000    2726000000  ...                0             0\n",
              "\n",
              "[5 rows x 14 columns]"
            ]
          },
          "metadata": {},
          "execution_count": 61
        }
      ]
    },
    {
      "cell_type": "code",
      "source": [
        "print(len(df_train.columns))\n",
        "print(len(df_test.columns))"
      ],
      "metadata": {
        "colab": {
          "base_uri": "https://localhost:8080/"
        },
        "id": "YZR0A9ZIQMRa",
        "outputId": "30122a59-da6c-47b7-b716-b19bf2e176ee"
      },
      "execution_count": null,
      "outputs": [
        {
          "output_type": "stream",
          "name": "stdout",
          "text": [
            "14\n",
            "14\n"
          ]
        }
      ]
    },
    {
      "cell_type": "markdown",
      "source": [
        "# **3. 모델 생성&학습**"
      ],
      "metadata": {
        "id": "44_JoBHwd3N3"
      }
    },
    {
      "cell_type": "code",
      "source": [
        "from sklearn.model_selection import KFold, cross_val_score, GridSearchCV\n",
        "from sklearn.metrics import mean_squared_error\n",
        "from sklearn.pipeline import make_pipeline\n",
        "from sklearn.ensemble import RandomForestRegressor, GradientBoostingRegressor\n",
        "from lightgbm import LGBMRegressor\n",
        "from sklearn.model_selection import train_test_split"
      ],
      "metadata": {
        "id": "LDdABK6PH1Wy"
      },
      "execution_count": null,
      "outputs": []
    },
    {
      "cell_type": "code",
      "source": [
        "# rmse 수행 함수\n",
        "def rmse(p,a):\n",
        "  difference = p - a \n",
        "  squared = difference ** 2\n",
        "  mean = squared.mean()\n",
        "  score = np.sqrt(mean)\n",
        "  return score"
      ],
      "metadata": {
        "id": "_8nrORIMAiyX"
      },
      "execution_count": null,
      "outputs": []
    },
    {
      "cell_type": "code",
      "source": [
        "#훈련-테스트 분할// 분류문제가 아니므로 stratify=y 설정은 뺀다.\n",
        "x_train_all, x_test, y_train_all, y_test = train_test_split(df_train, target, test_size=0.2, random_state=42)\n",
        "\n",
        "print(len(x_train_all))\n",
        "print(len(x_test))\n",
        "print(len(y_train_all))\n",
        "print(len(y_test))"
      ],
      "metadata": {
        "colab": {
          "base_uri": "https://localhost:8080/"
        },
        "id": "6GdQRi0cu61e",
        "outputId": "c50ad88f-3d5a-42dd-bb8b-607a60b84d33"
      },
      "execution_count": null,
      "outputs": [
        {
          "output_type": "stream",
          "name": "stdout",
          "text": [
            "25237\n",
            "6310\n",
            "25237\n",
            "6310\n"
          ]
        }
      ]
    },
    {
      "cell_type": "code",
      "source": [
        "# 랜덤포레스트\n",
        "model = RandomForestRegressor(n_estimators=1000, bootstrap=True, \n",
        "                                  criterion='mse', max_depth=2, \n",
        "                                  max_leaf_nodes=2, min_samples_split=2, \n",
        "                                  min_samples_leaf=1, max_features='auto')\n",
        "model.fit(x_train_all, y_train_all)\n",
        "model.score(x_test, y_test)\n",
        "print(rmse(model.predict(x_test), y_test))\n",
        "ran_prediction = model.predict(test_final)"
      ],
      "metadata": {
        "id": "G9lZxHzgfMxm",
        "colab": {
          "base_uri": "https://localhost:8080/"
        },
        "outputId": "a494f01e-c0f9-449d-9fe6-f1942b3312ee"
      },
      "execution_count": null,
      "outputs": [
        {
          "output_type": "stream",
          "name": "stdout",
          "text": [
            "7.107564965954574\n"
          ]
        }
      ]
    },
    {
      "cell_type": "code",
      "source": [
        "# 그레디언트 부스팅\n",
        "model = GradientBoostingRegressor()\n",
        "model.fit(x_train_all,y_train_all)\n",
        "model.score(x_test, y_test)\n",
        "print(rmse(model.predict(x_test), y_test))\n",
        "gra_prediction = model.predict(test_final)"
      ],
      "metadata": {
        "id": "MXWETThLlSIK",
        "colab": {
          "base_uri": "https://localhost:8080/"
        },
        "outputId": "6f4cef72-d2a3-427c-d863-c9581c2267dc"
      },
      "execution_count": null,
      "outputs": [
        {
          "output_type": "stream",
          "name": "stdout",
          "text": [
            "6.517970895144924\n"
          ]
        }
      ]
    },
    {
      "cell_type": "code",
      "source": [
        "# LGBM 회귀\n",
        "model = LGBMRegressor(n_estimators=2000, bagging_fraction=0.7, learning_rate=0.01,\n",
        "                      max_depth= 5, subsample=0.7, feature_fraction=0.9, boosting_type='gbdt',\n",
        "                      colsample_bytree=0.5, reg_lambda=5, n_jobs=-1)\n",
        "model.fit(x_train_all,y_train_all)\n",
        "model.score(x_test, y_test)\n",
        "print(rmse(model.predict(x_test), y_test))\n",
        "lgbm_prediction = model.predict(test_final)"
      ],
      "metadata": {
        "id": "6k0qZmefEJeM",
        "colab": {
          "base_uri": "https://localhost:8080/"
        },
        "outputId": "0ae886b1-6742-49be-b149-fb61f1d86f27"
      },
      "execution_count": null,
      "outputs": [
        {
          "output_type": "stream",
          "name": "stdout",
          "text": [
            "6.377898598933341\n"
          ]
        }
      ]
    },
    {
      "cell_type": "code",
      "source": [
        "from lightgbm import LGBMRegressor\n",
        "#모델 정의\n",
        "model = LGBMRegressor()\n",
        "# 모델 학습\n",
        "model.fit(x_train_all, y_train_all)\n",
        "print(rmse(model.predict(x_test), y_test))"
      ],
      "metadata": {
        "colab": {
          "base_uri": "https://localhost:8080/"
        },
        "id": "aLJUIjKEKlyQ",
        "outputId": "9ca27830-0de3-4d7f-d5cd-98290923de26"
      },
      "execution_count": null,
      "outputs": [
        {
          "output_type": "stream",
          "name": "stdout",
          "text": [
            "6.306749118136708\n"
          ]
        }
      ]
    },
    {
      "cell_type": "code",
      "source": [
        "prediction = gra_prediction*0.2 + lgbm_prediction*0.7"
      ],
      "metadata": {
        "id": "6ndXvNOgE4Bc"
      },
      "execution_count": null,
      "outputs": []
    },
    {
      "cell_type": "markdown",
      "source": [
        "# **4. 결과 도출**"
      ],
      "metadata": {
        "id": "JkaSWmLdeNv0"
      }
    },
    {
      "cell_type": "code",
      "source": [
        "#prediction = RandomForest_estimator.predict(df_test)\n",
        "\n",
        "submission_new = pd.DataFrame({\n",
        "    \"index\" : test['index'],\n",
        "    \"INVC_CONT\" : prediction\n",
        "})\n",
        "\n",
        "print(submission_new.head())\n",
        "submission_new.to_csv('/content/drive/MyDrive/Data Science/Colab Notebooks/택배운송량 예측/submission.csv')"
      ],
      "metadata": {
        "colab": {
          "base_uri": "https://localhost:8080/"
        },
        "id": "HBpYW1RP-fQY",
        "outputId": "0a8de725-8dc3-4eb6-f05a-23e61f134b7e"
      },
      "execution_count": null,
      "outputs": [
        {
          "output_type": "stream",
          "name": "stdout",
          "text": [
            "   index  INVC_CONT\n",
            "0  32000    3.19846\n",
            "1  32001    4.35363\n",
            "2  32002    3.93217\n",
            "3  32003    3.76232\n",
            "4  32004    3.54180\n"
          ]
        }
      ]
    }
  ]
}